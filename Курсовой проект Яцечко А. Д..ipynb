{
 "cells": [
  {
   "cell_type": "markdown",
   "id": "7fd06a0d",
   "metadata": {},
   "source": [
    "# Курсовой проект на тему: 'Исследование эффективности различных методов оптимизации гиперпараметров в задачах машинного обучения'"
   ]
  },
  {
   "cell_type": "markdown",
   "id": "e12fc6ff",
   "metadata": {},
   "source": [
    "Цель проекта: рассмотреть различные методы оптимизации гиперпараметров на примере реального датасета. Выявить оптимальный способ на примере популярных алгоритмов машинного обучения: DecisionTreeClassifier и KNeighborsClassifier."
   ]
  },
  {
   "cell_type": "code",
   "execution_count": 113,
   "id": "eb8db6bd",
   "metadata": {},
   "outputs": [],
   "source": [
    "import pandas as pd\n",
    "import numpy as np\n",
    "import seaborn as sns\n",
    "import matplotlib.pyplot as plt\n",
    "from scipy.stats import *\n",
    "from sklearn.model_selection import *\n",
    "from sklearn.tree import *\n",
    "import time\n",
    "from sklearn.svm import *\n",
    "from sklearn.neighbors import *\n",
    "from skopt import *\n",
    "import optuna\n",
    "from hyperopt import *\n",
    "from sklearn.metrics import *\n",
    "import warnings\n",
    "warnings.filterwarnings('ignore')"
   ]
  },
  {
   "cell_type": "markdown",
   "id": "6844bbb0",
   "metadata": {},
   "source": [
    "Загрузим все нужные библиотеки, которые будем использовать в проекте."
   ]
  },
  {
   "cell_type": "markdown",
   "id": "87919bff",
   "metadata": {},
   "source": [
    "В рамках работы над проектом был выбран датасет с данными о циррозе печени, предоставленный клиникой Мейо. Данные содержат информацию о первичном билиарном циррозе печени у пациентов с 1974 по 1984 года."
   ]
  },
  {
   "cell_type": "markdown",
   "id": "b57ab145",
   "metadata": {},
   "source": [
    "Ставится задача классификации. В нашем случае: предсказать статус пациента (сами статусы будут рассмотрены далее). Датасет содержит информацию по некоторым медицинским показателям, которые влияют на болезнь печени, а также некоторые данные о самом пациенте."
   ]
  },
  {
   "cell_type": "markdown",
   "id": "f13088be",
   "metadata": {},
   "source": [
    "Загрузим датасет и проанализируем полученные данные."
   ]
  },
  {
   "cell_type": "code",
   "execution_count": 3,
   "id": "b8aec9da",
   "metadata": {},
   "outputs": [
    {
     "data": {
      "text/html": [
       "<div>\n",
       "<style scoped>\n",
       "    .dataframe tbody tr th:only-of-type {\n",
       "        vertical-align: middle;\n",
       "    }\n",
       "\n",
       "    .dataframe tbody tr th {\n",
       "        vertical-align: top;\n",
       "    }\n",
       "\n",
       "    .dataframe thead th {\n",
       "        text-align: right;\n",
       "    }\n",
       "</style>\n",
       "<table border=\"1\" class=\"dataframe\">\n",
       "  <thead>\n",
       "    <tr style=\"text-align: right;\">\n",
       "      <th></th>\n",
       "      <th>N_Days</th>\n",
       "      <th>Status</th>\n",
       "      <th>Drug</th>\n",
       "      <th>Age</th>\n",
       "      <th>Sex</th>\n",
       "      <th>Ascites</th>\n",
       "      <th>Hepatomegaly</th>\n",
       "      <th>Spiders</th>\n",
       "      <th>Edema</th>\n",
       "      <th>Bilirubin</th>\n",
       "      <th>Cholesterol</th>\n",
       "      <th>Albumin</th>\n",
       "      <th>Copper</th>\n",
       "      <th>Alk_Phos</th>\n",
       "      <th>SGOT</th>\n",
       "      <th>Tryglicerides</th>\n",
       "      <th>Platelets</th>\n",
       "      <th>Prothrombin</th>\n",
       "      <th>Stage</th>\n",
       "    </tr>\n",
       "  </thead>\n",
       "  <tbody>\n",
       "    <tr>\n",
       "      <th>0</th>\n",
       "      <td>2221</td>\n",
       "      <td>C</td>\n",
       "      <td>Placebo</td>\n",
       "      <td>18499</td>\n",
       "      <td>F</td>\n",
       "      <td>N</td>\n",
       "      <td>Y</td>\n",
       "      <td>N</td>\n",
       "      <td>N</td>\n",
       "      <td>0.5</td>\n",
       "      <td>149.0</td>\n",
       "      <td>4.04</td>\n",
       "      <td>227.0</td>\n",
       "      <td>598.0</td>\n",
       "      <td>52.70</td>\n",
       "      <td>57.0</td>\n",
       "      <td>256.0</td>\n",
       "      <td>9.9</td>\n",
       "      <td>1</td>\n",
       "    </tr>\n",
       "    <tr>\n",
       "      <th>1</th>\n",
       "      <td>1230</td>\n",
       "      <td>C</td>\n",
       "      <td>Placebo</td>\n",
       "      <td>19724</td>\n",
       "      <td>M</td>\n",
       "      <td>Y</td>\n",
       "      <td>N</td>\n",
       "      <td>Y</td>\n",
       "      <td>N</td>\n",
       "      <td>0.5</td>\n",
       "      <td>219.0</td>\n",
       "      <td>3.93</td>\n",
       "      <td>22.0</td>\n",
       "      <td>663.0</td>\n",
       "      <td>45.00</td>\n",
       "      <td>75.0</td>\n",
       "      <td>220.0</td>\n",
       "      <td>10.8</td>\n",
       "      <td>2</td>\n",
       "    </tr>\n",
       "    <tr>\n",
       "      <th>2</th>\n",
       "      <td>4184</td>\n",
       "      <td>C</td>\n",
       "      <td>Placebo</td>\n",
       "      <td>11839</td>\n",
       "      <td>F</td>\n",
       "      <td>N</td>\n",
       "      <td>N</td>\n",
       "      <td>N</td>\n",
       "      <td>N</td>\n",
       "      <td>0.5</td>\n",
       "      <td>320.0</td>\n",
       "      <td>3.54</td>\n",
       "      <td>51.0</td>\n",
       "      <td>1243.0</td>\n",
       "      <td>122.45</td>\n",
       "      <td>80.0</td>\n",
       "      <td>225.0</td>\n",
       "      <td>10.0</td>\n",
       "      <td>2</td>\n",
       "    </tr>\n",
       "    <tr>\n",
       "      <th>3</th>\n",
       "      <td>2090</td>\n",
       "      <td>D</td>\n",
       "      <td>Placebo</td>\n",
       "      <td>16467</td>\n",
       "      <td>F</td>\n",
       "      <td>N</td>\n",
       "      <td>N</td>\n",
       "      <td>N</td>\n",
       "      <td>N</td>\n",
       "      <td>0.7</td>\n",
       "      <td>255.0</td>\n",
       "      <td>3.74</td>\n",
       "      <td>23.0</td>\n",
       "      <td>1024.0</td>\n",
       "      <td>77.50</td>\n",
       "      <td>58.0</td>\n",
       "      <td>151.0</td>\n",
       "      <td>10.2</td>\n",
       "      <td>2</td>\n",
       "    </tr>\n",
       "    <tr>\n",
       "      <th>4</th>\n",
       "      <td>2105</td>\n",
       "      <td>D</td>\n",
       "      <td>Placebo</td>\n",
       "      <td>21699</td>\n",
       "      <td>F</td>\n",
       "      <td>N</td>\n",
       "      <td>Y</td>\n",
       "      <td>N</td>\n",
       "      <td>N</td>\n",
       "      <td>1.9</td>\n",
       "      <td>486.0</td>\n",
       "      <td>3.54</td>\n",
       "      <td>74.0</td>\n",
       "      <td>1052.0</td>\n",
       "      <td>108.50</td>\n",
       "      <td>109.0</td>\n",
       "      <td>151.0</td>\n",
       "      <td>11.5</td>\n",
       "      <td>1</td>\n",
       "    </tr>\n",
       "  </tbody>\n",
       "</table>\n",
       "</div>"
      ],
      "text/plain": [
       "   N_Days Status     Drug    Age Sex Ascites Hepatomegaly Spiders Edema  \\\n",
       "0    2221      C  Placebo  18499   F       N            Y       N     N   \n",
       "1    1230      C  Placebo  19724   M       Y            N       Y     N   \n",
       "2    4184      C  Placebo  11839   F       N            N       N     N   \n",
       "3    2090      D  Placebo  16467   F       N            N       N     N   \n",
       "4    2105      D  Placebo  21699   F       N            Y       N     N   \n",
       "\n",
       "   Bilirubin  Cholesterol  Albumin  Copper  Alk_Phos    SGOT  Tryglicerides  \\\n",
       "0        0.5        149.0     4.04   227.0     598.0   52.70           57.0   \n",
       "1        0.5        219.0     3.93    22.0     663.0   45.00           75.0   \n",
       "2        0.5        320.0     3.54    51.0    1243.0  122.45           80.0   \n",
       "3        0.7        255.0     3.74    23.0    1024.0   77.50           58.0   \n",
       "4        1.9        486.0     3.54    74.0    1052.0  108.50          109.0   \n",
       "\n",
       "   Platelets  Prothrombin  Stage  \n",
       "0      256.0          9.9      1  \n",
       "1      220.0         10.8      2  \n",
       "2      225.0         10.0      2  \n",
       "3      151.0         10.2      2  \n",
       "4      151.0         11.5      1  "
      ]
     },
     "execution_count": 3,
     "metadata": {},
     "output_type": "execute_result"
    }
   ],
   "source": [
    "data = pd.read_csv('liver_cirrhosis.csv')\n",
    "data.head()"
   ]
  },
  {
   "cell_type": "code",
   "execution_count": 4,
   "id": "b674b30f",
   "metadata": {},
   "outputs": [
    {
     "data": {
      "text/plain": [
       "(25000, 19)"
      ]
     },
     "execution_count": 4,
     "metadata": {},
     "output_type": "execute_result"
    }
   ],
   "source": [
    "data.shape"
   ]
  },
  {
   "cell_type": "markdown",
   "id": "3cdd4c39",
   "metadata": {},
   "source": [
    "Заметим, что у нас есть 19 столбцов. Status - целевая переменная, отвечающая за статус пациента, либо пациент находится на обследовании, либо пациент находится на обследовании после пересадки печени, либо пациент мёртв.\n",
    "\n",
    "Остальные столбцы будут использованы в качестве признаков. Часть из них (как и целевая переменная) представлены в качестве категориальных атрибутов (Drug, Sex, Ascites, Hepatomegaly, Spiders, Edema). "
   ]
  },
  {
   "cell_type": "code",
   "execution_count": 5,
   "id": "9a7ac1a2",
   "metadata": {},
   "outputs": [
    {
     "name": "stdout",
     "output_type": "stream",
     "text": [
      "<class 'pandas.core.frame.DataFrame'>\n",
      "RangeIndex: 25000 entries, 0 to 24999\n",
      "Data columns (total 19 columns):\n",
      " #   Column         Non-Null Count  Dtype  \n",
      "---  ------         --------------  -----  \n",
      " 0   N_Days         25000 non-null  int64  \n",
      " 1   Status         25000 non-null  object \n",
      " 2   Drug           25000 non-null  object \n",
      " 3   Age            25000 non-null  int64  \n",
      " 4   Sex            25000 non-null  object \n",
      " 5   Ascites        25000 non-null  object \n",
      " 6   Hepatomegaly   25000 non-null  object \n",
      " 7   Spiders        25000 non-null  object \n",
      " 8   Edema          25000 non-null  object \n",
      " 9   Bilirubin      25000 non-null  float64\n",
      " 10  Cholesterol    25000 non-null  float64\n",
      " 11  Albumin        25000 non-null  float64\n",
      " 12  Copper         25000 non-null  float64\n",
      " 13  Alk_Phos       25000 non-null  float64\n",
      " 14  SGOT           25000 non-null  float64\n",
      " 15  Tryglicerides  25000 non-null  float64\n",
      " 16  Platelets      25000 non-null  float64\n",
      " 17  Prothrombin    25000 non-null  float64\n",
      " 18  Stage          25000 non-null  int64  \n",
      "dtypes: float64(9), int64(3), object(7)\n",
      "memory usage: 3.6+ MB\n"
     ]
    }
   ],
   "source": [
    "data.info()"
   ]
  },
  {
   "cell_type": "code",
   "execution_count": 6,
   "id": "48678dfb",
   "metadata": {},
   "outputs": [
    {
     "data": {
      "text/html": [
       "<div>\n",
       "<style scoped>\n",
       "    .dataframe tbody tr th:only-of-type {\n",
       "        vertical-align: middle;\n",
       "    }\n",
       "\n",
       "    .dataframe tbody tr th {\n",
       "        vertical-align: top;\n",
       "    }\n",
       "\n",
       "    .dataframe thead th {\n",
       "        text-align: right;\n",
       "    }\n",
       "</style>\n",
       "<table border=\"1\" class=\"dataframe\">\n",
       "  <thead>\n",
       "    <tr style=\"text-align: right;\">\n",
       "      <th></th>\n",
       "      <th>N_Days</th>\n",
       "      <th>Status</th>\n",
       "      <th>Drug</th>\n",
       "      <th>Age</th>\n",
       "      <th>Sex</th>\n",
       "      <th>Ascites</th>\n",
       "      <th>Hepatomegaly</th>\n",
       "      <th>Spiders</th>\n",
       "      <th>Edema</th>\n",
       "      <th>Bilirubin</th>\n",
       "      <th>Cholesterol</th>\n",
       "      <th>Albumin</th>\n",
       "      <th>Copper</th>\n",
       "      <th>Alk_Phos</th>\n",
       "      <th>SGOT</th>\n",
       "      <th>Tryglicerides</th>\n",
       "      <th>Platelets</th>\n",
       "      <th>Prothrombin</th>\n",
       "      <th>Stage</th>\n",
       "    </tr>\n",
       "  </thead>\n",
       "  <tbody>\n",
       "    <tr>\n",
       "      <th>count</th>\n",
       "      <td>25000.000000</td>\n",
       "      <td>25000</td>\n",
       "      <td>25000</td>\n",
       "      <td>25000.000000</td>\n",
       "      <td>25000</td>\n",
       "      <td>25000</td>\n",
       "      <td>25000</td>\n",
       "      <td>25000</td>\n",
       "      <td>25000</td>\n",
       "      <td>25000.000000</td>\n",
       "      <td>25000.000000</td>\n",
       "      <td>25000.000000</td>\n",
       "      <td>25000.000000</td>\n",
       "      <td>25000.000000</td>\n",
       "      <td>25000.000000</td>\n",
       "      <td>25000.000000</td>\n",
       "      <td>25000.000000</td>\n",
       "      <td>25000.000000</td>\n",
       "      <td>25000.00000</td>\n",
       "    </tr>\n",
       "    <tr>\n",
       "      <th>unique</th>\n",
       "      <td>NaN</td>\n",
       "      <td>3</td>\n",
       "      <td>2</td>\n",
       "      <td>NaN</td>\n",
       "      <td>2</td>\n",
       "      <td>2</td>\n",
       "      <td>2</td>\n",
       "      <td>2</td>\n",
       "      <td>3</td>\n",
       "      <td>NaN</td>\n",
       "      <td>NaN</td>\n",
       "      <td>NaN</td>\n",
       "      <td>NaN</td>\n",
       "      <td>NaN</td>\n",
       "      <td>NaN</td>\n",
       "      <td>NaN</td>\n",
       "      <td>NaN</td>\n",
       "      <td>NaN</td>\n",
       "      <td>NaN</td>\n",
       "    </tr>\n",
       "    <tr>\n",
       "      <th>top</th>\n",
       "      <td>NaN</td>\n",
       "      <td>C</td>\n",
       "      <td>Placebo</td>\n",
       "      <td>NaN</td>\n",
       "      <td>F</td>\n",
       "      <td>N</td>\n",
       "      <td>N</td>\n",
       "      <td>N</td>\n",
       "      <td>N</td>\n",
       "      <td>NaN</td>\n",
       "      <td>NaN</td>\n",
       "      <td>NaN</td>\n",
       "      <td>NaN</td>\n",
       "      <td>NaN</td>\n",
       "      <td>NaN</td>\n",
       "      <td>NaN</td>\n",
       "      <td>NaN</td>\n",
       "      <td>NaN</td>\n",
       "      <td>NaN</td>\n",
       "    </tr>\n",
       "    <tr>\n",
       "      <th>freq</th>\n",
       "      <td>NaN</td>\n",
       "      <td>13516</td>\n",
       "      <td>15827</td>\n",
       "      <td>NaN</td>\n",
       "      <td>22137</td>\n",
       "      <td>16798</td>\n",
       "      <td>15243</td>\n",
       "      <td>13614</td>\n",
       "      <td>20220</td>\n",
       "      <td>NaN</td>\n",
       "      <td>NaN</td>\n",
       "      <td>NaN</td>\n",
       "      <td>NaN</td>\n",
       "      <td>NaN</td>\n",
       "      <td>NaN</td>\n",
       "      <td>NaN</td>\n",
       "      <td>NaN</td>\n",
       "      <td>NaN</td>\n",
       "      <td>NaN</td>\n",
       "    </tr>\n",
       "    <tr>\n",
       "      <th>mean</th>\n",
       "      <td>1887.117040</td>\n",
       "      <td>NaN</td>\n",
       "      <td>NaN</td>\n",
       "      <td>18495.877080</td>\n",
       "      <td>NaN</td>\n",
       "      <td>NaN</td>\n",
       "      <td>NaN</td>\n",
       "      <td>NaN</td>\n",
       "      <td>NaN</td>\n",
       "      <td>3.402644</td>\n",
       "      <td>372.331471</td>\n",
       "      <td>3.486578</td>\n",
       "      <td>100.184663</td>\n",
       "      <td>1995.675597</td>\n",
       "      <td>123.166345</td>\n",
       "      <td>123.822548</td>\n",
       "      <td>256.007337</td>\n",
       "      <td>10.734549</td>\n",
       "      <td>2.00116</td>\n",
       "    </tr>\n",
       "    <tr>\n",
       "      <th>std</th>\n",
       "      <td>1091.690918</td>\n",
       "      <td>NaN</td>\n",
       "      <td>NaN</td>\n",
       "      <td>3737.596616</td>\n",
       "      <td>NaN</td>\n",
       "      <td>NaN</td>\n",
       "      <td>NaN</td>\n",
       "      <td>NaN</td>\n",
       "      <td>NaN</td>\n",
       "      <td>4.707491</td>\n",
       "      <td>193.668452</td>\n",
       "      <td>0.380488</td>\n",
       "      <td>73.184840</td>\n",
       "      <td>1798.885660</td>\n",
       "      <td>47.747616</td>\n",
       "      <td>52.786350</td>\n",
       "      <td>98.679006</td>\n",
       "      <td>0.904436</td>\n",
       "      <td>0.81387</td>\n",
       "    </tr>\n",
       "    <tr>\n",
       "      <th>min</th>\n",
       "      <td>41.000000</td>\n",
       "      <td>NaN</td>\n",
       "      <td>NaN</td>\n",
       "      <td>9598.000000</td>\n",
       "      <td>NaN</td>\n",
       "      <td>NaN</td>\n",
       "      <td>NaN</td>\n",
       "      <td>NaN</td>\n",
       "      <td>NaN</td>\n",
       "      <td>0.300000</td>\n",
       "      <td>120.000000</td>\n",
       "      <td>1.960000</td>\n",
       "      <td>4.000000</td>\n",
       "      <td>289.000000</td>\n",
       "      <td>26.350000</td>\n",
       "      <td>33.000000</td>\n",
       "      <td>62.000000</td>\n",
       "      <td>9.000000</td>\n",
       "      <td>1.00000</td>\n",
       "    </tr>\n",
       "    <tr>\n",
       "      <th>25%</th>\n",
       "      <td>1080.000000</td>\n",
       "      <td>NaN</td>\n",
       "      <td>NaN</td>\n",
       "      <td>15694.000000</td>\n",
       "      <td>NaN</td>\n",
       "      <td>NaN</td>\n",
       "      <td>NaN</td>\n",
       "      <td>NaN</td>\n",
       "      <td>NaN</td>\n",
       "      <td>0.800000</td>\n",
       "      <td>275.000000</td>\n",
       "      <td>3.290000</td>\n",
       "      <td>52.000000</td>\n",
       "      <td>1032.000000</td>\n",
       "      <td>92.000000</td>\n",
       "      <td>92.000000</td>\n",
       "      <td>189.000000</td>\n",
       "      <td>10.000000</td>\n",
       "      <td>1.00000</td>\n",
       "    </tr>\n",
       "    <tr>\n",
       "      <th>50%</th>\n",
       "      <td>1680.000000</td>\n",
       "      <td>NaN</td>\n",
       "      <td>NaN</td>\n",
       "      <td>18499.000000</td>\n",
       "      <td>NaN</td>\n",
       "      <td>NaN</td>\n",
       "      <td>NaN</td>\n",
       "      <td>NaN</td>\n",
       "      <td>NaN</td>\n",
       "      <td>1.300000</td>\n",
       "      <td>369.510563</td>\n",
       "      <td>3.510000</td>\n",
       "      <td>97.648387</td>\n",
       "      <td>1828.000000</td>\n",
       "      <td>122.556346</td>\n",
       "      <td>124.702128</td>\n",
       "      <td>251.000000</td>\n",
       "      <td>10.600000</td>\n",
       "      <td>2.00000</td>\n",
       "    </tr>\n",
       "    <tr>\n",
       "      <th>75%</th>\n",
       "      <td>2576.000000</td>\n",
       "      <td>NaN</td>\n",
       "      <td>NaN</td>\n",
       "      <td>20955.000000</td>\n",
       "      <td>NaN</td>\n",
       "      <td>NaN</td>\n",
       "      <td>NaN</td>\n",
       "      <td>NaN</td>\n",
       "      <td>NaN</td>\n",
       "      <td>3.400000</td>\n",
       "      <td>369.510563</td>\n",
       "      <td>3.750000</td>\n",
       "      <td>107.000000</td>\n",
       "      <td>1982.655769</td>\n",
       "      <td>134.850000</td>\n",
       "      <td>127.000000</td>\n",
       "      <td>311.000000</td>\n",
       "      <td>11.100000</td>\n",
       "      <td>3.00000</td>\n",
       "    </tr>\n",
       "    <tr>\n",
       "      <th>max</th>\n",
       "      <td>4795.000000</td>\n",
       "      <td>NaN</td>\n",
       "      <td>NaN</td>\n",
       "      <td>28650.000000</td>\n",
       "      <td>NaN</td>\n",
       "      <td>NaN</td>\n",
       "      <td>NaN</td>\n",
       "      <td>NaN</td>\n",
       "      <td>NaN</td>\n",
       "      <td>28.000000</td>\n",
       "      <td>1775.000000</td>\n",
       "      <td>4.640000</td>\n",
       "      <td>588.000000</td>\n",
       "      <td>13862.400000</td>\n",
       "      <td>457.250000</td>\n",
       "      <td>598.000000</td>\n",
       "      <td>721.000000</td>\n",
       "      <td>18.000000</td>\n",
       "      <td>3.00000</td>\n",
       "    </tr>\n",
       "  </tbody>\n",
       "</table>\n",
       "</div>"
      ],
      "text/plain": [
       "              N_Days Status     Drug           Age    Sex Ascites  \\\n",
       "count   25000.000000  25000    25000  25000.000000  25000   25000   \n",
       "unique           NaN      3        2           NaN      2       2   \n",
       "top              NaN      C  Placebo           NaN      F       N   \n",
       "freq             NaN  13516    15827           NaN  22137   16798   \n",
       "mean     1887.117040    NaN      NaN  18495.877080    NaN     NaN   \n",
       "std      1091.690918    NaN      NaN   3737.596616    NaN     NaN   \n",
       "min        41.000000    NaN      NaN   9598.000000    NaN     NaN   \n",
       "25%      1080.000000    NaN      NaN  15694.000000    NaN     NaN   \n",
       "50%      1680.000000    NaN      NaN  18499.000000    NaN     NaN   \n",
       "75%      2576.000000    NaN      NaN  20955.000000    NaN     NaN   \n",
       "max      4795.000000    NaN      NaN  28650.000000    NaN     NaN   \n",
       "\n",
       "       Hepatomegaly Spiders  Edema     Bilirubin   Cholesterol       Albumin  \\\n",
       "count         25000   25000  25000  25000.000000  25000.000000  25000.000000   \n",
       "unique            2       2      3           NaN           NaN           NaN   \n",
       "top               N       N      N           NaN           NaN           NaN   \n",
       "freq          15243   13614  20220           NaN           NaN           NaN   \n",
       "mean            NaN     NaN    NaN      3.402644    372.331471      3.486578   \n",
       "std             NaN     NaN    NaN      4.707491    193.668452      0.380488   \n",
       "min             NaN     NaN    NaN      0.300000    120.000000      1.960000   \n",
       "25%             NaN     NaN    NaN      0.800000    275.000000      3.290000   \n",
       "50%             NaN     NaN    NaN      1.300000    369.510563      3.510000   \n",
       "75%             NaN     NaN    NaN      3.400000    369.510563      3.750000   \n",
       "max             NaN     NaN    NaN     28.000000   1775.000000      4.640000   \n",
       "\n",
       "              Copper      Alk_Phos          SGOT  Tryglicerides     Platelets  \\\n",
       "count   25000.000000  25000.000000  25000.000000   25000.000000  25000.000000   \n",
       "unique           NaN           NaN           NaN            NaN           NaN   \n",
       "top              NaN           NaN           NaN            NaN           NaN   \n",
       "freq             NaN           NaN           NaN            NaN           NaN   \n",
       "mean      100.184663   1995.675597    123.166345     123.822548    256.007337   \n",
       "std        73.184840   1798.885660     47.747616      52.786350     98.679006   \n",
       "min         4.000000    289.000000     26.350000      33.000000     62.000000   \n",
       "25%        52.000000   1032.000000     92.000000      92.000000    189.000000   \n",
       "50%        97.648387   1828.000000    122.556346     124.702128    251.000000   \n",
       "75%       107.000000   1982.655769    134.850000     127.000000    311.000000   \n",
       "max       588.000000  13862.400000    457.250000     598.000000    721.000000   \n",
       "\n",
       "         Prothrombin        Stage  \n",
       "count   25000.000000  25000.00000  \n",
       "unique           NaN          NaN  \n",
       "top              NaN          NaN  \n",
       "freq             NaN          NaN  \n",
       "mean       10.734549      2.00116  \n",
       "std         0.904436      0.81387  \n",
       "min         9.000000      1.00000  \n",
       "25%        10.000000      1.00000  \n",
       "50%        10.600000      2.00000  \n",
       "75%        11.100000      3.00000  \n",
       "max        18.000000      3.00000  "
      ]
     },
     "execution_count": 6,
     "metadata": {},
     "output_type": "execute_result"
    }
   ],
   "source": [
    "data.describe(include='all')"
   ]
  },
  {
   "cell_type": "code",
   "execution_count": 7,
   "id": "edbebd6c",
   "metadata": {},
   "outputs": [
    {
     "data": {
      "text/plain": [
       "N_Days           0\n",
       "Status           0\n",
       "Drug             0\n",
       "Age              0\n",
       "Sex              0\n",
       "Ascites          0\n",
       "Hepatomegaly     0\n",
       "Spiders          0\n",
       "Edema            0\n",
       "Bilirubin        0\n",
       "Cholesterol      0\n",
       "Albumin          0\n",
       "Copper           0\n",
       "Alk_Phos         0\n",
       "SGOT             0\n",
       "Tryglicerides    0\n",
       "Platelets        0\n",
       "Prothrombin      0\n",
       "Stage            0\n",
       "dtype: int64"
      ]
     },
     "execution_count": 7,
     "metadata": {},
     "output_type": "execute_result"
    }
   ],
   "source": [
    "data.isnull().sum()"
   ]
  },
  {
   "cell_type": "markdown",
   "id": "0b839efe",
   "metadata": {},
   "source": [
    "Рассмотрим информацию по каждому атрибуту:\n",
    "\n",
    "N_Days: Количество дней между регистрацией и более ранней датой смерти, трансплантации или времени анализа исследования в 1986 г. (кол-во дней)\n",
    "\n",
    "Drug: тип препарата (бинарный: Placebo, D-penicillamine)\n",
    "\n",
    "Age: возраст в днях (кол-во дней)\n",
    "\n",
    "Sex: пол (бинарный: M(мужчина), F(женщина))\n",
    "\n",
    "Ascites: наличие асцита (бинарный: Y(да) или N(нет))\n",
    "\n",
    "Hepatomegaly: наличие гепатомегалии (бинарный: Y(да), N(нет))\n",
    "\n",
    "Spiders: наличие \"фигуры паука\" (бинарный: Y(да), N(нет))\n",
    "\n",
    "Edema: наличие отеков (N(нет отеков и нет терапии диуретиками), S(отеки присутствуют без терапии диуретиками или  разрешаются диуретиками), Y(отеки присутствуют несмотря на терапию диуретиками))\n",
    "\n",
    "Bilirubin: билирубин в [mg/dl]\n",
    "\n",
    "Cholesterol: холестерол в [mg/dl]\n",
    "\n",
    "Albumin: альбумины в [gm/dl]\n",
    "\n",
    "Copper: медь в [ug/day]\n",
    "\n",
    "Alk_Phos: щелочная фосфатаза в [U/liter]\n",
    "\n",
    "SGOT: АсАТ в [U/ml]\n",
    "\n",
    "Tryglicerides: жиры в [mg/dl]\n",
    "\n",
    "Platelets: тромбоциты [ml/1000]\n",
    "\n",
    "Prothrombin: протромбин в секундах (сек)\n",
    "\n",
    "Stage: стадия заболевания (1, 2, 3)"
   ]
  },
  {
   "cell_type": "markdown",
   "id": "d1ee1cee",
   "metadata": {},
   "source": [
    "Возраст в данных указан в днях, в нашем случае перевод в года будет нецелесообразным. Для того, чтобы не терять точность оставим данные в таком представлении."
   ]
  },
  {
   "cell_type": "markdown",
   "id": "26b671a1",
   "metadata": {},
   "source": [
    "Показатели являются составляющими при изучении заболевания цирроза печени, поэтому на данном этапе оставим их все."
   ]
  },
  {
   "cell_type": "markdown",
   "id": "c5bdf9e4",
   "metadata": {},
   "source": [
    "Отметим, что данные не содержат пропущенных значений. Также при выводе информации аномальных значений на данном этапе также не замечено."
   ]
  },
  {
   "cell_type": "markdown",
   "id": "a60281aa",
   "metadata": {},
   "source": [
    "Рассмотрим целевую переменную."
   ]
  },
  {
   "cell_type": "code",
   "execution_count": 8,
   "id": "dcb19bd3",
   "metadata": {},
   "outputs": [
    {
     "data": {
      "text/plain": [
       "array(['C', 'D', 'CL'], dtype=object)"
      ]
     },
     "execution_count": 8,
     "metadata": {},
     "output_type": "execute_result"
    }
   ],
   "source": [
    "data['Status'].unique()"
   ]
  },
  {
   "cell_type": "code",
   "execution_count": 9,
   "id": "d3d84736",
   "metadata": {},
   "outputs": [
    {
     "data": {
      "text/plain": [
       "Status\n",
       "C     13516\n",
       "D      9456\n",
       "CL     2028\n",
       "Name: count, dtype: int64"
      ]
     },
     "execution_count": 9,
     "metadata": {},
     "output_type": "execute_result"
    }
   ],
   "source": [
    "data.Status.value_counts()"
   ]
  },
  {
   "cell_type": "code",
   "execution_count": 10,
   "id": "8bdf6e75",
   "metadata": {},
   "outputs": [
    {
     "data": {
      "image/png": "[encoded data removed]",
      "text/plain": [
       "<Figure size 600x400 with 1 Axes>"
      ]
     },
     "metadata": {},
     "output_type": "display_data"
    }
   ],
   "source": [
    "fig, ax = plt.subplots(figsize=(6, 4))\n",
    "sns.countplot(x='Status', data=data)\n",
    "plt.title('Целевая переменная (статус пациента)')\n",
    "plt.show()"
   ]
  },
  {
   "cell_type": "markdown",
   "id": "7b28fea7",
   "metadata": {},
   "source": [
    "Заметим, что статус CL(обследование после пересадки печени) по сравнению с остальными составляет меньшинство. Для того, чтобы избежать дисбаланс классов, следует объединить статусы C и CL, поскольку они являются полным противовесом статуса D(смерть) и содержат в себе смысл обследования."
   ]
  },
  {
   "cell_type": "code",
   "execution_count": 11,
   "id": "c959c4d1",
   "metadata": {},
   "outputs": [],
   "source": [
    "data.Status.replace({\"C\": 1, \"CL\": 1, \"D\": 0}, inplace=True)"
   ]
  },
  {
   "cell_type": "code",
   "execution_count": 12,
   "id": "db87b80f",
   "metadata": {},
   "outputs": [
    {
     "data": {
      "text/html": [
       "<div>\n",
       "<style scoped>\n",
       "    .dataframe tbody tr th:only-of-type {\n",
       "        vertical-align: middle;\n",
       "    }\n",
       "\n",
       "    .dataframe tbody tr th {\n",
       "        vertical-align: top;\n",
       "    }\n",
       "\n",
       "    .dataframe thead th {\n",
       "        text-align: right;\n",
       "    }\n",
       "</style>\n",
       "<table border=\"1\" class=\"dataframe\">\n",
       "  <thead>\n",
       "    <tr style=\"text-align: right;\">\n",
       "      <th></th>\n",
       "      <th>N_Days</th>\n",
       "      <th>Status</th>\n",
       "      <th>Drug</th>\n",
       "      <th>Age</th>\n",
       "      <th>Sex</th>\n",
       "      <th>Ascites</th>\n",
       "      <th>Hepatomegaly</th>\n",
       "      <th>Spiders</th>\n",
       "      <th>Edema</th>\n",
       "      <th>Bilirubin</th>\n",
       "      <th>Cholesterol</th>\n",
       "      <th>Albumin</th>\n",
       "      <th>Copper</th>\n",
       "      <th>Alk_Phos</th>\n",
       "      <th>SGOT</th>\n",
       "      <th>Tryglicerides</th>\n",
       "      <th>Platelets</th>\n",
       "      <th>Prothrombin</th>\n",
       "      <th>Stage</th>\n",
       "    </tr>\n",
       "  </thead>\n",
       "  <tbody>\n",
       "    <tr>\n",
       "      <th>0</th>\n",
       "      <td>2221</td>\n",
       "      <td>1</td>\n",
       "      <td>Placebo</td>\n",
       "      <td>18499</td>\n",
       "      <td>F</td>\n",
       "      <td>N</td>\n",
       "      <td>Y</td>\n",
       "      <td>N</td>\n",
       "      <td>N</td>\n",
       "      <td>0.5</td>\n",
       "      <td>149.0</td>\n",
       "      <td>4.04</td>\n",
       "      <td>227.0</td>\n",
       "      <td>598.0</td>\n",
       "      <td>52.70</td>\n",
       "      <td>57.0</td>\n",
       "      <td>256.0</td>\n",
       "      <td>9.9</td>\n",
       "      <td>1</td>\n",
       "    </tr>\n",
       "    <tr>\n",
       "      <th>1</th>\n",
       "      <td>1230</td>\n",
       "      <td>1</td>\n",
       "      <td>Placebo</td>\n",
       "      <td>19724</td>\n",
       "      <td>M</td>\n",
       "      <td>Y</td>\n",
       "      <td>N</td>\n",
       "      <td>Y</td>\n",
       "      <td>N</td>\n",
       "      <td>0.5</td>\n",
       "      <td>219.0</td>\n",
       "      <td>3.93</td>\n",
       "      <td>22.0</td>\n",
       "      <td>663.0</td>\n",
       "      <td>45.00</td>\n",
       "      <td>75.0</td>\n",
       "      <td>220.0</td>\n",
       "      <td>10.8</td>\n",
       "      <td>2</td>\n",
       "    </tr>\n",
       "    <tr>\n",
       "      <th>2</th>\n",
       "      <td>4184</td>\n",
       "      <td>1</td>\n",
       "      <td>Placebo</td>\n",
       "      <td>11839</td>\n",
       "      <td>F</td>\n",
       "      <td>N</td>\n",
       "      <td>N</td>\n",
       "      <td>N</td>\n",
       "      <td>N</td>\n",
       "      <td>0.5</td>\n",
       "      <td>320.0</td>\n",
       "      <td>3.54</td>\n",
       "      <td>51.0</td>\n",
       "      <td>1243.0</td>\n",
       "      <td>122.45</td>\n",
       "      <td>80.0</td>\n",
       "      <td>225.0</td>\n",
       "      <td>10.0</td>\n",
       "      <td>2</td>\n",
       "    </tr>\n",
       "    <tr>\n",
       "      <th>3</th>\n",
       "      <td>2090</td>\n",
       "      <td>0</td>\n",
       "      <td>Placebo</td>\n",
       "      <td>16467</td>\n",
       "      <td>F</td>\n",
       "      <td>N</td>\n",
       "      <td>N</td>\n",
       "      <td>N</td>\n",
       "      <td>N</td>\n",
       "      <td>0.7</td>\n",
       "      <td>255.0</td>\n",
       "      <td>3.74</td>\n",
       "      <td>23.0</td>\n",
       "      <td>1024.0</td>\n",
       "      <td>77.50</td>\n",
       "      <td>58.0</td>\n",
       "      <td>151.0</td>\n",
       "      <td>10.2</td>\n",
       "      <td>2</td>\n",
       "    </tr>\n",
       "    <tr>\n",
       "      <th>4</th>\n",
       "      <td>2105</td>\n",
       "      <td>0</td>\n",
       "      <td>Placebo</td>\n",
       "      <td>21699</td>\n",
       "      <td>F</td>\n",
       "      <td>N</td>\n",
       "      <td>Y</td>\n",
       "      <td>N</td>\n",
       "      <td>N</td>\n",
       "      <td>1.9</td>\n",
       "      <td>486.0</td>\n",
       "      <td>3.54</td>\n",
       "      <td>74.0</td>\n",
       "      <td>1052.0</td>\n",
       "      <td>108.50</td>\n",
       "      <td>109.0</td>\n",
       "      <td>151.0</td>\n",
       "      <td>11.5</td>\n",
       "      <td>1</td>\n",
       "    </tr>\n",
       "  </tbody>\n",
       "</table>\n",
       "</div>"
      ],
      "text/plain": [
       "   N_Days  Status     Drug    Age Sex Ascites Hepatomegaly Spiders Edema  \\\n",
       "0    2221       1  Placebo  18499   F       N            Y       N     N   \n",
       "1    1230       1  Placebo  19724   M       Y            N       Y     N   \n",
       "2    4184       1  Placebo  11839   F       N            N       N     N   \n",
       "3    2090       0  Placebo  16467   F       N            N       N     N   \n",
       "4    2105       0  Placebo  21699   F       N            Y       N     N   \n",
       "\n",
       "   Bilirubin  Cholesterol  Albumin  Copper  Alk_Phos    SGOT  Tryglicerides  \\\n",
       "0        0.5        149.0     4.04   227.0     598.0   52.70           57.0   \n",
       "1        0.5        219.0     3.93    22.0     663.0   45.00           75.0   \n",
       "2        0.5        320.0     3.54    51.0    1243.0  122.45           80.0   \n",
       "3        0.7        255.0     3.74    23.0    1024.0   77.50           58.0   \n",
       "4        1.9        486.0     3.54    74.0    1052.0  108.50          109.0   \n",
       "\n",
       "   Platelets  Prothrombin  Stage  \n",
       "0      256.0          9.9      1  \n",
       "1      220.0         10.8      2  \n",
       "2      225.0         10.0      2  \n",
       "3      151.0         10.2      2  \n",
       "4      151.0         11.5      1  "
      ]
     },
     "execution_count": 12,
     "metadata": {},
     "output_type": "execute_result"
    }
   ],
   "source": [
    "data.head()"
   ]
  },
  {
   "cell_type": "code",
   "execution_count": 13,
   "id": "ff911143",
   "metadata": {},
   "outputs": [
    {
     "data": {
      "text/plain": [
       "Status\n",
       "1    15544\n",
       "0     9456\n",
       "Name: count, dtype: int64"
      ]
     },
     "execution_count": 13,
     "metadata": {},
     "output_type": "execute_result"
    }
   ],
   "source": [
    "data.Status.value_counts()"
   ]
  },
  {
   "cell_type": "code",
   "execution_count": 14,
   "id": "a531907e",
   "metadata": {},
   "outputs": [
    {
     "data": {
      "image/png": "[encoded data removed]",
      "text/plain": [
       "<Figure size 600x400 with 1 Axes>"
      ]
     },
     "metadata": {},
     "output_type": "display_data"
    }
   ],
   "source": [
    "fig, ax = plt.subplots(figsize=(6, 4))\n",
    "sns.countplot(x='Status', data=data)\n",
    "plt.title('Целевая переменная (статус пациента)')\n",
    "plt.show()"
   ]
  },
  {
   "cell_type": "markdown",
   "id": "b08baf83",
   "metadata": {},
   "source": [
    "Здесь 1 - пациент находится на обследовании, 0 - пациент мёртв (по причине цирроза печени)."
   ]
  },
  {
   "cell_type": "markdown",
   "id": "19478b67",
   "metadata": {},
   "source": [
    "Рассмотрим категориальные атрибуты, с помощью Хи-теста проверим их на влияние на целевую переменную (H0: нет зависимости с целевой переменной) и переведем в численные значения."
   ]
  },
  {
   "cell_type": "code",
   "execution_count": 15,
   "id": "7cf586e2",
   "metadata": {},
   "outputs": [
    {
     "data": {
      "text/plain": [
       "array(['Placebo', 'D-penicillamine'], dtype=object)"
      ]
     },
     "execution_count": 15,
     "metadata": {},
     "output_type": "execute_result"
    }
   ],
   "source": [
    "data['Drug'].unique()"
   ]
  },
  {
   "cell_type": "code",
   "execution_count": 16,
   "id": "78b5d1e2",
   "metadata": {},
   "outputs": [
    {
     "data": {
      "text/plain": [
       "Drug\n",
       "Placebo            15827\n",
       "D-penicillamine     9173\n",
       "Name: count, dtype: int64"
      ]
     },
     "execution_count": 16,
     "metadata": {},
     "output_type": "execute_result"
    }
   ],
   "source": [
    "data.Drug.value_counts()"
   ]
  },
  {
   "cell_type": "code",
   "execution_count": 17,
   "id": "2d6ec82a",
   "metadata": {},
   "outputs": [
    {
     "name": "stdout",
     "output_type": "stream",
     "text": [
      "Нулевая гипотеза отвергается: False\n"
     ]
    }
   ],
   "source": [
    "chi_drug = chi2_contingency(pd.crosstab(data['Status'], data['Drug']))\n",
    "print(f'Нулевая гипотеза отвергается: {chi_drug[1] < 0.05}')"
   ]
  },
  {
   "cell_type": "markdown",
   "id": "d78f8387",
   "metadata": {},
   "source": [
    "Следовательно, тип принимаемого препара не влияет на целевую переменную, можем исключить данный столбец из рассмотрения."
   ]
  },
  {
   "cell_type": "code",
   "execution_count": 18,
   "id": "885e2bd4",
   "metadata": {},
   "outputs": [],
   "source": [
    "data = data.drop(columns='Drug')"
   ]
  },
  {
   "cell_type": "code",
   "execution_count": 19,
   "id": "5e7f808a",
   "metadata": {},
   "outputs": [
    {
     "data": {
      "text/plain": [
       "array(['F', 'M'], dtype=object)"
      ]
     },
     "execution_count": 19,
     "metadata": {},
     "output_type": "execute_result"
    }
   ],
   "source": [
    "data['Sex'].unique()"
   ]
  },
  {
   "cell_type": "code",
   "execution_count": 20,
   "id": "46601ed7",
   "metadata": {},
   "outputs": [
    {
     "data": {
      "text/plain": [
       "Sex\n",
       "F    22137\n",
       "M     2863\n",
       "Name: count, dtype: int64"
      ]
     },
     "execution_count": 20,
     "metadata": {},
     "output_type": "execute_result"
    }
   ],
   "source": [
    "data.Sex.value_counts()"
   ]
  },
  {
   "cell_type": "code",
   "execution_count": 21,
   "id": "7043821c",
   "metadata": {},
   "outputs": [
    {
     "name": "stdout",
     "output_type": "stream",
     "text": [
      "Нулевая гипотеза отвергается: True\n"
     ]
    }
   ],
   "source": [
    "chi_sex = chi2_contingency(pd.crosstab(data['Status'], data['Sex']))\n",
    "print(f'Нулевая гипотеза отвергается: {chi_sex[1] < 0.05}')"
   ]
  },
  {
   "cell_type": "markdown",
   "id": "82a7091d",
   "metadata": {},
   "source": [
    "Следовательно, данный атрибут полезен и его следует оставить. Посмотрим его зависимость на целевую переменную:"
   ]
  },
  {
   "cell_type": "code",
   "execution_count": 22,
   "id": "e1372c86",
   "metadata": {},
   "outputs": [
    {
     "data": {
      "image/png": "[encoded data removed]",
      "text/plain": [
       "<Figure size 600x400 with 1 Axes>"
      ]
     },
     "metadata": {},
     "output_type": "display_data"
    }
   ],
   "source": [
    "fig, ax=plt.subplots(figsize=(6,4))\n",
    "sns.countplot(x='Status', data=data, hue='Sex')\n",
    "plt.title('Зависимость статуса пациента от пола')\n",
    "plt.show()"
   ]
  },
  {
   "cell_type": "markdown",
   "id": "155c938d",
   "metadata": {},
   "source": [
    "По диграмме видно, что мужчин заболевших циррозом печени во много больше, чем женщин."
   ]
  },
  {
   "cell_type": "markdown",
   "id": "dea34fb7",
   "metadata": {},
   "source": [
    "Заменим значение F на 0 и M на 1 для дальнейшего использования в работе."
   ]
  },
  {
   "cell_type": "code",
   "execution_count": 23,
   "id": "b66f3a71",
   "metadata": {},
   "outputs": [],
   "source": [
    "data.Sex.replace({\"M\": 1, \"F\": 0}, inplace=True)"
   ]
  },
  {
   "cell_type": "code",
   "execution_count": 24,
   "id": "0a99003d",
   "metadata": {},
   "outputs": [
    {
     "data": {
      "text/plain": [
       "array(['N', 'Y'], dtype=object)"
      ]
     },
     "execution_count": 24,
     "metadata": {},
     "output_type": "execute_result"
    }
   ],
   "source": [
    "data['Ascites'].unique()"
   ]
  },
  {
   "cell_type": "code",
   "execution_count": 25,
   "id": "a73680b4",
   "metadata": {},
   "outputs": [
    {
     "data": {
      "text/plain": [
       "Ascites\n",
       "N    16798\n",
       "Y     8202\n",
       "Name: count, dtype: int64"
      ]
     },
     "execution_count": 25,
     "metadata": {},
     "output_type": "execute_result"
    }
   ],
   "source": [
    "data.Ascites.value_counts()"
   ]
  },
  {
   "cell_type": "code",
   "execution_count": 26,
   "id": "760ca4d5",
   "metadata": {},
   "outputs": [
    {
     "name": "stdout",
     "output_type": "stream",
     "text": [
      "Нулевая гипотеза отвергается: True\n"
     ]
    }
   ],
   "source": [
    "chi_ascites = chi2_contingency(pd.crosstab(data['Status'], data['Ascites']))\n",
    "print(f'Нулевая гипотеза отвергается: {chi_ascites[1] < 0.05}')"
   ]
  },
  {
   "cell_type": "markdown",
   "id": "33f99a74",
   "metadata": {},
   "source": [
    "Данный атрибут является значимым, соответственно, оставим его в таблице. Посмотрим его зависимость на целевую переменную:"
   ]
  },
  {
   "cell_type": "code",
   "execution_count": 27,
   "id": "c779ea0e",
   "metadata": {},
   "outputs": [
    {
     "data": {
      "image/png": "[encoded data removed]",
      "text/plain": [
       "<Figure size 600x400 with 1 Axes>"
      ]
     },
     "metadata": {},
     "output_type": "display_data"
    }
   ],
   "source": [
    "fig, ax=plt.subplots(figsize=(6,4))\n",
    "sns.countplot(x='Status', data=data, hue='Ascites')\n",
    "plt.title('Зависимость статуса пациента от наличия асцитов')\n",
    "plt.show()"
   ]
  },
  {
   "cell_type": "markdown",
   "id": "753277f1",
   "metadata": {},
   "source": [
    "У большого количества пациентов, находящихся на обследовании, нет асцитов. Но в то же время, у половины обследумых подтверждается их наличие. Заменим наличие на 1, а отсутствие на 0."
   ]
  },
  {
   "cell_type": "code",
   "execution_count": 28,
   "id": "8095478f",
   "metadata": {},
   "outputs": [],
   "source": [
    "data.Ascites.replace({\"Y\": 1, \"N\": 0}, inplace=True)"
   ]
  },
  {
   "cell_type": "code",
   "execution_count": 29,
   "id": "59cc7cbd",
   "metadata": {},
   "outputs": [
    {
     "data": {
      "text/plain": [
       "array(['Y', 'N'], dtype=object)"
      ]
     },
     "execution_count": 29,
     "metadata": {},
     "output_type": "execute_result"
    }
   ],
   "source": [
    "data['Hepatomegaly'].unique()"
   ]
  },
  {
   "cell_type": "code",
   "execution_count": 30,
   "id": "f484dea8",
   "metadata": {},
   "outputs": [
    {
     "data": {
      "text/plain": [
       "Hepatomegaly\n",
       "N    15243\n",
       "Y     9757\n",
       "Name: count, dtype: int64"
      ]
     },
     "execution_count": 30,
     "metadata": {},
     "output_type": "execute_result"
    }
   ],
   "source": [
    "data.Hepatomegaly.value_counts()"
   ]
  },
  {
   "cell_type": "code",
   "execution_count": 31,
   "id": "001d3fd8",
   "metadata": {},
   "outputs": [
    {
     "name": "stdout",
     "output_type": "stream",
     "text": [
      "Нулевая гипотеза отвергается: True\n"
     ]
    }
   ],
   "source": [
    "chi_hepa = chi2_contingency(pd.crosstab(data['Status'], data['Hepatomegaly']))\n",
    "print(f'Нулевая гипотеза отвергается: {chi_hepa[1] < 0.05}')"
   ]
  },
  {
   "cell_type": "markdown",
   "id": "64787c22",
   "metadata": {},
   "source": [
    "Следовательно, сохраняем атрибут, поскольку он также имеет значимость. Рассмотрим зависимость с целевой переменной:"
   ]
  },
  {
   "cell_type": "code",
   "execution_count": 32,
   "id": "f2500dce",
   "metadata": {},
   "outputs": [
    {
     "data": {
      "image/png": "[encoded data removed]",
      "text/plain": [
       "<Figure size 600x400 with 1 Axes>"
      ]
     },
     "metadata": {},
     "output_type": "display_data"
    }
   ],
   "source": [
    "fig, ax=plt.subplots(figsize=(6,4))\n",
    "sns.countplot(x='Status', data=data, hue='Hepatomegaly')\n",
    "plt.title('Зависимость статуса пациента от наличия гепатомелагии')\n",
    "plt.show()"
   ]
  },
  {
   "cell_type": "markdown",
   "id": "23e9ea4d",
   "metadata": {},
   "source": [
    "Отметим, что у обследуемых пациентов преобладает отсуствие гепатомегалии. В то же время уровень наличия гепатомегаллии у обоих статусов примерно одинаковый. Также можем заменить Y на 1 и N на 0."
   ]
  },
  {
   "cell_type": "code",
   "execution_count": 33,
   "id": "722fd6d9",
   "metadata": {},
   "outputs": [],
   "source": [
    "data.Hepatomegaly.replace({\"Y\": 1, \"N\": 0}, inplace=True)"
   ]
  },
  {
   "cell_type": "code",
   "execution_count": 34,
   "id": "0549bb7c",
   "metadata": {},
   "outputs": [
    {
     "data": {
      "text/plain": [
       "array(['N', 'Y'], dtype=object)"
      ]
     },
     "execution_count": 34,
     "metadata": {},
     "output_type": "execute_result"
    }
   ],
   "source": [
    "data['Spiders'].unique()"
   ]
  },
  {
   "cell_type": "code",
   "execution_count": 35,
   "id": "e7b4d85c",
   "metadata": {},
   "outputs": [
    {
     "data": {
      "text/plain": [
       "Spiders\n",
       "N    13614\n",
       "Y    11386\n",
       "Name: count, dtype: int64"
      ]
     },
     "execution_count": 35,
     "metadata": {},
     "output_type": "execute_result"
    }
   ],
   "source": [
    "data.Spiders.value_counts()"
   ]
  },
  {
   "cell_type": "code",
   "execution_count": 36,
   "id": "67d2b756",
   "metadata": {},
   "outputs": [
    {
     "name": "stdout",
     "output_type": "stream",
     "text": [
      "Нулевая гипотеза отвергается: True\n"
     ]
    }
   ],
   "source": [
    "chi_spiders = chi2_contingency(pd.crosstab(data['Status'], data['Spiders']))\n",
    "print(f'Нулевая гипотеза отвергается: {chi_spiders[1] < 0.05}')"
   ]
  },
  {
   "cell_type": "markdown",
   "id": "01ce6a3d",
   "metadata": {},
   "source": [
    "Данный атрибут является значимым, поэтому оставим его для дальнейшего исследования. Рассмотрим влияние на целевую переменную: "
   ]
  },
  {
   "cell_type": "code",
   "execution_count": 37,
   "id": "60b6f3e2",
   "metadata": {},
   "outputs": [
    {
     "data": {
      "image/png": "[encoded data removed]",
      "text/plain": [
       "<Figure size 600x400 with 1 Axes>"
      ]
     },
     "metadata": {},
     "output_type": "display_data"
    }
   ],
   "source": [
    "fig, ax=plt.subplots(figsize=(6,4))\n",
    "sns.countplot(x='Status', data=data, hue='Spiders')\n",
    "plt.title('Зависимость статуса пациента от \"формы паука\"')\n",
    "plt.show()"
   ]
  },
  {
   "cell_type": "markdown",
   "id": "f8550dcd",
   "metadata": {},
   "source": [
    "У пациентов, проходящих обследование, преобладает отсуствие \"формы паука\". В другом классе оба показателя примерно равные. Также заменим наличие на 1, отсуствие - на 0."
   ]
  },
  {
   "cell_type": "code",
   "execution_count": 38,
   "id": "c53f5771",
   "metadata": {},
   "outputs": [],
   "source": [
    "data.Spiders.replace({\"Y\": 1, \"N\": 0}, inplace=True)"
   ]
  },
  {
   "cell_type": "code",
   "execution_count": 39,
   "id": "0eddc355",
   "metadata": {},
   "outputs": [
    {
     "data": {
      "text/plain": [
       "array(['N', 'Y', 'S'], dtype=object)"
      ]
     },
     "execution_count": 39,
     "metadata": {},
     "output_type": "execute_result"
    }
   ],
   "source": [
    "data['Edema'].unique()"
   ]
  },
  {
   "cell_type": "code",
   "execution_count": 40,
   "id": "98254714",
   "metadata": {},
   "outputs": [
    {
     "data": {
      "text/plain": [
       "Edema\n",
       "N    20220\n",
       "S     3698\n",
       "Y     1082\n",
       "Name: count, dtype: int64"
      ]
     },
     "execution_count": 40,
     "metadata": {},
     "output_type": "execute_result"
    }
   ],
   "source": [
    "data.Edema.value_counts()"
   ]
  },
  {
   "cell_type": "code",
   "execution_count": 41,
   "id": "cd7ef769",
   "metadata": {},
   "outputs": [
    {
     "name": "stdout",
     "output_type": "stream",
     "text": [
      "Нулевая гипотеза отвергается: True\n"
     ]
    }
   ],
   "source": [
    "chi_edema = chi2_contingency(pd.crosstab(data['Status'], data['Edema']))\n",
    "print(f'Нулевая гипотеза отвергается: {chi_edema[1] < 0.05}')"
   ]
  },
  {
   "cell_type": "markdown",
   "id": "bc11b28f",
   "metadata": {},
   "source": [
    "Следует оставить данный атрибут, поскольку он влияет на целевую переменную. Рассмотрим влияние:"
   ]
  },
  {
   "cell_type": "code",
   "execution_count": 42,
   "id": "a7ed16ca",
   "metadata": {},
   "outputs": [
    {
     "data": {
      "image/png": "[encoded data removed]",
      "text/plain": [
       "<Figure size 600x400 with 1 Axes>"
      ]
     },
     "metadata": {},
     "output_type": "display_data"
    }
   ],
   "source": [
    "fig, ax=plt.subplots(figsize=(6,4))\n",
    "sns.countplot(x='Status', data=data, hue='Edema')\n",
    "plt.title('Зависимость статуса пациента от наличия отеков')\n",
    "plt.show()"
   ]
  },
  {
   "cell_type": "markdown",
   "id": "18657286",
   "metadata": {},
   "source": [
    "Отметим, что у обследуемых пациентов почти нет отеков. \n",
    "\n",
    "Заметим, что отсуствие является преобладающим среди обоих классов. Также для темы исследования не важно происхождение отеков, поэтому следует выделить два класса: 1 - отеки есть, 0 - отеков нет. Выделять отдельные столбцы для этого будет нецелесообразно."
   ]
  },
  {
   "cell_type": "code",
   "execution_count": 43,
   "id": "9297ab86",
   "metadata": {},
   "outputs": [],
   "source": [
    "data.Edema.replace({\"Y\": 1, \"S\": 1, \"N\": 0}, inplace=True)"
   ]
  },
  {
   "cell_type": "code",
   "execution_count": 44,
   "id": "b9b21aeb",
   "metadata": {},
   "outputs": [
    {
     "data": {
      "image/png": "[encoded data removed]",
      "text/plain": [
       "<Figure size 600x400 with 1 Axes>"
      ]
     },
     "metadata": {},
     "output_type": "display_data"
    }
   ],
   "source": [
    "fig, ax=plt.subplots(figsize=(6,4))\n",
    "sns.countplot(x='Status', data=data, hue='Edema')\n",
    "plt.title('Зависимость статуса пациента от наличия отеков')\n",
    "plt.show()"
   ]
  },
  {
   "cell_type": "code",
   "execution_count": 45,
   "id": "8af66a8a",
   "metadata": {},
   "outputs": [
    {
     "data": {
      "text/plain": [
       "array([1, 2, 3])"
      ]
     },
     "execution_count": 45,
     "metadata": {},
     "output_type": "execute_result"
    }
   ],
   "source": [
    "data['Stage'].unique()"
   ]
  },
  {
   "cell_type": "code",
   "execution_count": 46,
   "id": "625fcfbe",
   "metadata": {},
   "outputs": [
    {
     "data": {
      "text/plain": [
       "Stage\n",
       "2    8441\n",
       "3    8294\n",
       "1    8265\n",
       "Name: count, dtype: int64"
      ]
     },
     "execution_count": 46,
     "metadata": {},
     "output_type": "execute_result"
    }
   ],
   "source": [
    "data.Stage.value_counts()"
   ]
  },
  {
   "cell_type": "code",
   "execution_count": 47,
   "id": "e0007b97",
   "metadata": {},
   "outputs": [
    {
     "name": "stdout",
     "output_type": "stream",
     "text": [
      "Нулевая гипотеза отвергается: True\n"
     ]
    }
   ],
   "source": [
    "chi_stage = chi2_contingency(pd.crosstab(data['Status'], data['Stage']))\n",
    "print(f'Нулевая гипотеза отвергается: {chi_stage[1] < 0.05}')"
   ]
  },
  {
   "cell_type": "markdown",
   "id": "11564cac",
   "metadata": {},
   "source": [
    "Следовательно, данный признак влияет на целевую переменную и его стоит оставить. Рассмотрим на графике:"
   ]
  },
  {
   "cell_type": "code",
   "execution_count": 48,
   "id": "7ca67e59",
   "metadata": {},
   "outputs": [
    {
     "data": {
      "image/png": "[encoded data removed]",
      "text/plain": [
       "<Figure size 600x400 with 1 Axes>"
      ]
     },
     "metadata": {},
     "output_type": "display_data"
    }
   ],
   "source": [
    "fig, ax=plt.subplots(figsize=(6,4))\n",
    "sns.countplot(x='Status', data=data, hue='Stage')\n",
    "plt.title('Зависимость статуса пациента от стадии заболевания')\n",
    "plt.show()"
   ]
  },
  {
   "cell_type": "markdown",
   "id": "98bc9668",
   "metadata": {},
   "source": [
    "Получили зависимость: чем больше стадия, тем больше смертность."
   ]
  },
  {
   "cell_type": "markdown",
   "id": "da787aef",
   "metadata": {},
   "source": [
    "Рассмотрим числовые атрибуты, в особенности корреляцию между ними."
   ]
  },
  {
   "cell_type": "code",
   "execution_count": 49,
   "id": "dd294af4",
   "metadata": {},
   "outputs": [],
   "source": [
    "num_atr=['N_Days', 'Age', 'Bilirubin', 'Cholesterol', 'Albumin' , 'Copper', 'Alk_Phos', 'SGOT', \n",
    "     'Tryglicerides', 'Platelets', 'Prothrombin']"
   ]
  },
  {
   "cell_type": "code",
   "execution_count": 50,
   "id": "e56cf565",
   "metadata": {},
   "outputs": [
    {
     "data": {
      "text/html": [
       "<div>\n",
       "<style scoped>\n",
       "    .dataframe tbody tr th:only-of-type {\n",
       "        vertical-align: middle;\n",
       "    }\n",
       "\n",
       "    .dataframe tbody tr th {\n",
       "        vertical-align: top;\n",
       "    }\n",
       "\n",
       "    .dataframe thead th {\n",
       "        text-align: right;\n",
       "    }\n",
       "</style>\n",
       "<table border=\"1\" class=\"dataframe\">\n",
       "  <thead>\n",
       "    <tr style=\"text-align: right;\">\n",
       "      <th></th>\n",
       "      <th>N_Days</th>\n",
       "      <th>Age</th>\n",
       "      <th>Bilirubin</th>\n",
       "      <th>Cholesterol</th>\n",
       "      <th>Albumin</th>\n",
       "      <th>Copper</th>\n",
       "      <th>Alk_Phos</th>\n",
       "      <th>SGOT</th>\n",
       "      <th>Tryglicerides</th>\n",
       "      <th>Platelets</th>\n",
       "      <th>Prothrombin</th>\n",
       "    </tr>\n",
       "  </thead>\n",
       "  <tbody>\n",
       "    <tr>\n",
       "      <th>N_Days</th>\n",
       "      <td>1.000000</td>\n",
       "      <td>-0.060569</td>\n",
       "      <td>-0.394799</td>\n",
       "      <td>-0.123461</td>\n",
       "      <td>0.368851</td>\n",
       "      <td>-0.281349</td>\n",
       "      <td>0.147792</td>\n",
       "      <td>-0.220532</td>\n",
       "      <td>-0.147606</td>\n",
       "      <td>0.115908</td>\n",
       "      <td>-0.149960</td>\n",
       "    </tr>\n",
       "    <tr>\n",
       "      <th>Age</th>\n",
       "      <td>-0.060569</td>\n",
       "      <td>1.000000</td>\n",
       "      <td>0.006081</td>\n",
       "      <td>-0.035932</td>\n",
       "      <td>-0.108807</td>\n",
       "      <td>0.006670</td>\n",
       "      <td>0.029575</td>\n",
       "      <td>0.011165</td>\n",
       "      <td>0.030719</td>\n",
       "      <td>-0.123611</td>\n",
       "      <td>0.042134</td>\n",
       "    </tr>\n",
       "    <tr>\n",
       "      <th>Bilirubin</th>\n",
       "      <td>-0.394799</td>\n",
       "      <td>0.006081</td>\n",
       "      <td>1.000000</td>\n",
       "      <td>0.339106</td>\n",
       "      <td>-0.283105</td>\n",
       "      <td>0.432199</td>\n",
       "      <td>0.112972</td>\n",
       "      <td>0.368024</td>\n",
       "      <td>0.379776</td>\n",
       "      <td>-0.095162</td>\n",
       "      <td>0.254145</td>\n",
       "    </tr>\n",
       "    <tr>\n",
       "      <th>Cholesterol</th>\n",
       "      <td>-0.123461</td>\n",
       "      <td>-0.035932</td>\n",
       "      <td>0.339106</td>\n",
       "      <td>1.000000</td>\n",
       "      <td>-0.066418</td>\n",
       "      <td>0.129223</td>\n",
       "      <td>0.116131</td>\n",
       "      <td>0.322450</td>\n",
       "      <td>0.248305</td>\n",
       "      <td>0.008835</td>\n",
       "      <td>0.006194</td>\n",
       "    </tr>\n",
       "    <tr>\n",
       "      <th>Albumin</th>\n",
       "      <td>0.368851</td>\n",
       "      <td>-0.108807</td>\n",
       "      <td>-0.283105</td>\n",
       "      <td>-0.066418</td>\n",
       "      <td>1.000000</td>\n",
       "      <td>-0.179171</td>\n",
       "      <td>-0.125686</td>\n",
       "      <td>-0.162569</td>\n",
       "      <td>-0.111661</td>\n",
       "      <td>0.118662</td>\n",
       "      <td>-0.215859</td>\n",
       "    </tr>\n",
       "    <tr>\n",
       "      <th>Copper</th>\n",
       "      <td>-0.281349</td>\n",
       "      <td>0.006670</td>\n",
       "      <td>0.432199</td>\n",
       "      <td>0.129223</td>\n",
       "      <td>-0.179171</td>\n",
       "      <td>1.000000</td>\n",
       "      <td>0.200772</td>\n",
       "      <td>0.281353</td>\n",
       "      <td>0.253358</td>\n",
       "      <td>-0.074730</td>\n",
       "      <td>0.141349</td>\n",
       "    </tr>\n",
       "    <tr>\n",
       "      <th>Alk_Phos</th>\n",
       "      <td>0.147792</td>\n",
       "      <td>0.029575</td>\n",
       "      <td>0.112972</td>\n",
       "      <td>0.116131</td>\n",
       "      <td>-0.125686</td>\n",
       "      <td>0.200772</td>\n",
       "      <td>1.000000</td>\n",
       "      <td>0.151769</td>\n",
       "      <td>0.129874</td>\n",
       "      <td>0.007922</td>\n",
       "      <td>0.072392</td>\n",
       "    </tr>\n",
       "    <tr>\n",
       "      <th>SGOT</th>\n",
       "      <td>-0.220532</td>\n",
       "      <td>0.011165</td>\n",
       "      <td>0.368024</td>\n",
       "      <td>0.322450</td>\n",
       "      <td>-0.162569</td>\n",
       "      <td>0.281353</td>\n",
       "      <td>0.151769</td>\n",
       "      <td>1.000000</td>\n",
       "      <td>0.122173</td>\n",
       "      <td>-0.093752</td>\n",
       "      <td>0.133210</td>\n",
       "    </tr>\n",
       "    <tr>\n",
       "      <th>Tryglicerides</th>\n",
       "      <td>-0.147606</td>\n",
       "      <td>0.030719</td>\n",
       "      <td>0.379776</td>\n",
       "      <td>0.248305</td>\n",
       "      <td>-0.111661</td>\n",
       "      <td>0.253358</td>\n",
       "      <td>0.129874</td>\n",
       "      <td>0.122173</td>\n",
       "      <td>1.000000</td>\n",
       "      <td>-0.020636</td>\n",
       "      <td>0.027211</td>\n",
       "    </tr>\n",
       "    <tr>\n",
       "      <th>Platelets</th>\n",
       "      <td>0.115908</td>\n",
       "      <td>-0.123611</td>\n",
       "      <td>-0.095162</td>\n",
       "      <td>0.008835</td>\n",
       "      <td>0.118662</td>\n",
       "      <td>-0.074730</td>\n",
       "      <td>0.007922</td>\n",
       "      <td>-0.093752</td>\n",
       "      <td>-0.020636</td>\n",
       "      <td>1.000000</td>\n",
       "      <td>-0.156356</td>\n",
       "    </tr>\n",
       "    <tr>\n",
       "      <th>Prothrombin</th>\n",
       "      <td>-0.149960</td>\n",
       "      <td>0.042134</td>\n",
       "      <td>0.254145</td>\n",
       "      <td>0.006194</td>\n",
       "      <td>-0.215859</td>\n",
       "      <td>0.141349</td>\n",
       "      <td>0.072392</td>\n",
       "      <td>0.133210</td>\n",
       "      <td>0.027211</td>\n",
       "      <td>-0.156356</td>\n",
       "      <td>1.000000</td>\n",
       "    </tr>\n",
       "  </tbody>\n",
       "</table>\n",
       "</div>"
      ],
      "text/plain": [
       "                 N_Days       Age  Bilirubin  Cholesterol   Albumin    Copper  \\\n",
       "N_Days         1.000000 -0.060569  -0.394799    -0.123461  0.368851 -0.281349   \n",
       "Age           -0.060569  1.000000   0.006081    -0.035932 -0.108807  0.006670   \n",
       "Bilirubin     -0.394799  0.006081   1.000000     0.339106 -0.283105  0.432199   \n",
       "Cholesterol   -0.123461 -0.035932   0.339106     1.000000 -0.066418  0.129223   \n",
       "Albumin        0.368851 -0.108807  -0.283105    -0.066418  1.000000 -0.179171   \n",
       "Copper        -0.281349  0.006670   0.432199     0.129223 -0.179171  1.000000   \n",
       "Alk_Phos       0.147792  0.029575   0.112972     0.116131 -0.125686  0.200772   \n",
       "SGOT          -0.220532  0.011165   0.368024     0.322450 -0.162569  0.281353   \n",
       "Tryglicerides -0.147606  0.030719   0.379776     0.248305 -0.111661  0.253358   \n",
       "Platelets      0.115908 -0.123611  -0.095162     0.008835  0.118662 -0.074730   \n",
       "Prothrombin   -0.149960  0.042134   0.254145     0.006194 -0.215859  0.141349   \n",
       "\n",
       "               Alk_Phos      SGOT  Tryglicerides  Platelets  Prothrombin  \n",
       "N_Days         0.147792 -0.220532      -0.147606   0.115908    -0.149960  \n",
       "Age            0.029575  0.011165       0.030719  -0.123611     0.042134  \n",
       "Bilirubin      0.112972  0.368024       0.379776  -0.095162     0.254145  \n",
       "Cholesterol    0.116131  0.322450       0.248305   0.008835     0.006194  \n",
       "Albumin       -0.125686 -0.162569      -0.111661   0.118662    -0.215859  \n",
       "Copper         0.200772  0.281353       0.253358  -0.074730     0.141349  \n",
       "Alk_Phos       1.000000  0.151769       0.129874   0.007922     0.072392  \n",
       "SGOT           0.151769  1.000000       0.122173  -0.093752     0.133210  \n",
       "Tryglicerides  0.129874  0.122173       1.000000  -0.020636     0.027211  \n",
       "Platelets      0.007922 -0.093752      -0.020636   1.000000    -0.156356  \n",
       "Prothrombin    0.072392  0.133210       0.027211  -0.156356     1.000000  "
      ]
     },
     "execution_count": 50,
     "metadata": {},
     "output_type": "execute_result"
    }
   ],
   "source": [
    "corr = data[num_atr]\n",
    "corr_matrix = corr.corr(method='pearson')\n",
    "corr_matrix"
   ]
  },
  {
   "cell_type": "code",
   "execution_count": 51,
   "id": "01f89b6b",
   "metadata": {},
   "outputs": [
    {
     "data": {
      "image/png": "[encoded data removed]",
      "text/plain": [
       "<Figure size 1000x1000 with 2 Axes>"
      ]
     },
     "metadata": {},
     "output_type": "display_data"
    }
   ],
   "source": [
    "fig, ax =plt.subplots(figsize=(10, 10))\n",
    "plt.title('Корреляционная матрица')\n",
    "sns.heatmap(corr_matrix, annot=True, cmap=sns.diverging_palette(220, 10, as_cmap=True), square=True, ax=ax, fmt=\".2f\")\n",
    "plt.show()"
   ]
  },
  {
   "cell_type": "markdown",
   "id": "5e6d77ae",
   "metadata": {},
   "source": [
    "Отметим, что сильной корреляции нет ни между какими атрибутами, значит лучше оставить все и продолжить иссоледования с ними."
   ]
  },
  {
   "cell_type": "markdown",
   "id": "e41af56c",
   "metadata": {},
   "source": [
    "В итоге после всех преобразований получим такую таблицу с данными, дальше можем переходить к исследованию."
   ]
  },
  {
   "cell_type": "code",
   "execution_count": 52,
   "id": "68b55142",
   "metadata": {},
   "outputs": [
    {
     "data": {
      "text/html": [
       "<div>\n",
       "<style scoped>\n",
       "    .dataframe tbody tr th:only-of-type {\n",
       "        vertical-align: middle;\n",
       "    }\n",
       "\n",
       "    .dataframe tbody tr th {\n",
       "        vertical-align: top;\n",
       "    }\n",
       "\n",
       "    .dataframe thead th {\n",
       "        text-align: right;\n",
       "    }\n",
       "</style>\n",
       "<table border=\"1\" class=\"dataframe\">\n",
       "  <thead>\n",
       "    <tr style=\"text-align: right;\">\n",
       "      <th></th>\n",
       "      <th>N_Days</th>\n",
       "      <th>Status</th>\n",
       "      <th>Age</th>\n",
       "      <th>Sex</th>\n",
       "      <th>Ascites</th>\n",
       "      <th>Hepatomegaly</th>\n",
       "      <th>Spiders</th>\n",
       "      <th>Edema</th>\n",
       "      <th>Bilirubin</th>\n",
       "      <th>Cholesterol</th>\n",
       "      <th>Albumin</th>\n",
       "      <th>Copper</th>\n",
       "      <th>Alk_Phos</th>\n",
       "      <th>SGOT</th>\n",
       "      <th>Tryglicerides</th>\n",
       "      <th>Platelets</th>\n",
       "      <th>Prothrombin</th>\n",
       "      <th>Stage</th>\n",
       "    </tr>\n",
       "  </thead>\n",
       "  <tbody>\n",
       "    <tr>\n",
       "      <th>0</th>\n",
       "      <td>2221</td>\n",
       "      <td>1</td>\n",
       "      <td>18499</td>\n",
       "      <td>0</td>\n",
       "      <td>0</td>\n",
       "      <td>1</td>\n",
       "      <td>0</td>\n",
       "      <td>0</td>\n",
       "      <td>0.5</td>\n",
       "      <td>149.0</td>\n",
       "      <td>4.04</td>\n",
       "      <td>227.0</td>\n",
       "      <td>598.0</td>\n",
       "      <td>52.70</td>\n",
       "      <td>57.0</td>\n",
       "      <td>256.0</td>\n",
       "      <td>9.9</td>\n",
       "      <td>1</td>\n",
       "    </tr>\n",
       "    <tr>\n",
       "      <th>1</th>\n",
       "      <td>1230</td>\n",
       "      <td>1</td>\n",
       "      <td>19724</td>\n",
       "      <td>1</td>\n",
       "      <td>1</td>\n",
       "      <td>0</td>\n",
       "      <td>1</td>\n",
       "      <td>0</td>\n",
       "      <td>0.5</td>\n",
       "      <td>219.0</td>\n",
       "      <td>3.93</td>\n",
       "      <td>22.0</td>\n",
       "      <td>663.0</td>\n",
       "      <td>45.00</td>\n",
       "      <td>75.0</td>\n",
       "      <td>220.0</td>\n",
       "      <td>10.8</td>\n",
       "      <td>2</td>\n",
       "    </tr>\n",
       "    <tr>\n",
       "      <th>2</th>\n",
       "      <td>4184</td>\n",
       "      <td>1</td>\n",
       "      <td>11839</td>\n",
       "      <td>0</td>\n",
       "      <td>0</td>\n",
       "      <td>0</td>\n",
       "      <td>0</td>\n",
       "      <td>0</td>\n",
       "      <td>0.5</td>\n",
       "      <td>320.0</td>\n",
       "      <td>3.54</td>\n",
       "      <td>51.0</td>\n",
       "      <td>1243.0</td>\n",
       "      <td>122.45</td>\n",
       "      <td>80.0</td>\n",
       "      <td>225.0</td>\n",
       "      <td>10.0</td>\n",
       "      <td>2</td>\n",
       "    </tr>\n",
       "    <tr>\n",
       "      <th>3</th>\n",
       "      <td>2090</td>\n",
       "      <td>0</td>\n",
       "      <td>16467</td>\n",
       "      <td>0</td>\n",
       "      <td>0</td>\n",
       "      <td>0</td>\n",
       "      <td>0</td>\n",
       "      <td>0</td>\n",
       "      <td>0.7</td>\n",
       "      <td>255.0</td>\n",
       "      <td>3.74</td>\n",
       "      <td>23.0</td>\n",
       "      <td>1024.0</td>\n",
       "      <td>77.50</td>\n",
       "      <td>58.0</td>\n",
       "      <td>151.0</td>\n",
       "      <td>10.2</td>\n",
       "      <td>2</td>\n",
       "    </tr>\n",
       "    <tr>\n",
       "      <th>4</th>\n",
       "      <td>2105</td>\n",
       "      <td>0</td>\n",
       "      <td>21699</td>\n",
       "      <td>0</td>\n",
       "      <td>0</td>\n",
       "      <td>1</td>\n",
       "      <td>0</td>\n",
       "      <td>0</td>\n",
       "      <td>1.9</td>\n",
       "      <td>486.0</td>\n",
       "      <td>3.54</td>\n",
       "      <td>74.0</td>\n",
       "      <td>1052.0</td>\n",
       "      <td>108.50</td>\n",
       "      <td>109.0</td>\n",
       "      <td>151.0</td>\n",
       "      <td>11.5</td>\n",
       "      <td>1</td>\n",
       "    </tr>\n",
       "  </tbody>\n",
       "</table>\n",
       "</div>"
      ],
      "text/plain": [
       "   N_Days  Status    Age  Sex  Ascites  Hepatomegaly  Spiders  Edema  \\\n",
       "0    2221       1  18499    0        0             1        0      0   \n",
       "1    1230       1  19724    1        1             0        1      0   \n",
       "2    4184       1  11839    0        0             0        0      0   \n",
       "3    2090       0  16467    0        0             0        0      0   \n",
       "4    2105       0  21699    0        0             1        0      0   \n",
       "\n",
       "   Bilirubin  Cholesterol  Albumin  Copper  Alk_Phos    SGOT  Tryglicerides  \\\n",
       "0        0.5        149.0     4.04   227.0     598.0   52.70           57.0   \n",
       "1        0.5        219.0     3.93    22.0     663.0   45.00           75.0   \n",
       "2        0.5        320.0     3.54    51.0    1243.0  122.45           80.0   \n",
       "3        0.7        255.0     3.74    23.0    1024.0   77.50           58.0   \n",
       "4        1.9        486.0     3.54    74.0    1052.0  108.50          109.0   \n",
       "\n",
       "   Platelets  Prothrombin  Stage  \n",
       "0      256.0          9.9      1  \n",
       "1      220.0         10.8      2  \n",
       "2      225.0         10.0      2  \n",
       "3      151.0         10.2      2  \n",
       "4      151.0         11.5      1  "
      ]
     },
     "execution_count": 52,
     "metadata": {},
     "output_type": "execute_result"
    }
   ],
   "source": [
    "data.head()"
   ]
  },
  {
   "cell_type": "markdown",
   "id": "1b0d017b",
   "metadata": {},
   "source": [
    "Выделим в отдельный столбце целевую переменную, затем поделим на тестовую и обучающую выборки (метод разделения - случайный, поскольку данные не являются временными или последовательными). Размер тестовой выборки будет 0.2, что является классическим."
   ]
  },
  {
   "cell_type": "code",
   "execution_count": 102,
   "id": "70a756c8",
   "metadata": {},
   "outputs": [],
   "source": [
    "y = data['Status']\n",
    "X = data.drop(columns='Status')"
   ]
  },
  {
   "cell_type": "code",
   "execution_count": 103,
   "id": "068ff00f",
   "metadata": {},
   "outputs": [],
   "source": [
    "X_train, X_test, y_train, y_test = train_test_split(X, y, test_size=0.2, random_state=42)"
   ]
  },
  {
   "cell_type": "markdown",
   "id": "4d9c0c22",
   "metadata": {},
   "source": [
    "Теперь можно перейти к построению моделей и оптимизации их гиперпараметров. Будут рассмотрены следующие алгоритмы: DecisionTreeClassifier, KNeighborsClassifier. Для каждого алгоритма мы будем использовать несколько методов оптимизации. Дальше все полученные результаты будут выгружены в таблицу для оценки эффективности каждого из методов для разных алгоритмов. Оцениваться эффективность будет с помощью кросс-валидации (метрики accuracy, precision, recall) и времени."
   ]
  },
  {
   "cell_type": "code",
   "execution_count": 55,
   "id": "4a3c72f3",
   "metadata": {},
   "outputs": [],
   "source": [
    "model1 = DecisionTreeClassifier()\n",
    "model2 = KNeighborsClassifier()"
   ]
  },
  {
   "cell_type": "markdown",
   "id": "53a2e3b7",
   "metadata": {},
   "source": [
    "Для каждого алгоритма подберем несколько гипермараметров и запишем их в виде словаря."
   ]
  },
  {
   "cell_type": "code",
   "execution_count": 56,
   "id": "78b89ab3",
   "metadata": {},
   "outputs": [],
   "source": [
    "param1 = { \n",
    "    'max_features': ['sqrt', 'log2'],\n",
    "    'min_samples_split':[2, 3, 4, 5],\n",
    "    'min_samples_leaf': [1, 2, 3, 4, 5],\n",
    "    'max_depth' : [3, 4, 5, 6, 7, 8],\n",
    "    'criterion' :['gini', 'entropy']\n",
    "}\n",
    "param2 = { 'n_neighbors' : [5, 6, 7 , 8, 9, 10],\n",
    "               'weights' : ['uniform', 'distance'],\n",
    "               'metric' : ['minkowski','euclidean','manhattan']\n",
    "}"
   ]
  },
  {
   "cell_type": "markdown",
   "id": "d4ed629c",
   "metadata": {},
   "source": [
    "Стоит начать с самого простого и распространнего способа оптимизации гиперпараметров - GridSearch. Все наборы значений просто перебираются, далее для каждой комбинации проводится обучение и оценивается ее эффективность на валидационных данных."
   ]
  },
  {
   "cell_type": "markdown",
   "id": "e3b2bd4c",
   "metadata": {},
   "source": [
    "Данный метод в конечном итоге представляет хороший результат, но это очень ресурсозатратно по времени."
   ]
  },
  {
   "cell_type": "code",
   "execution_count": 57,
   "id": "3550fe6f",
   "metadata": {},
   "outputs": [
    {
     "name": "stdout",
     "output_type": "stream",
     "text": [
      "Набор гиперпараметров для Decision Tree:  {'criterion': 'gini', 'max_depth': 8, 'max_features': 'sqrt', 'min_samples_leaf': 4, 'min_samples_split': 5}\n"
     ]
    }
   ],
   "source": [
    "start_dt_gs= time.time()\n",
    "grid_search1 = GridSearchCV(model1, param1, cv=5).fit(X_train, y_train)\n",
    "end_dt_gs = time.time()\n",
    "dt_best_params = grid_search1.best_params_\n",
    "dt_best_score = grid_search1.best_score_\n",
    "print('Набор гиперпараметров для Decision Tree: ', dt_best_params)"
   ]
  },
  {
   "cell_type": "code",
   "execution_count": 58,
   "id": "430345c1",
   "metadata": {},
   "outputs": [
    {
     "name": "stdout",
     "output_type": "stream",
     "text": [
      "Набор гиперпараметров для KNN:  {'metric': 'manhattan', 'n_neighbors': 5, 'weights': 'distance'}\n"
     ]
    }
   ],
   "source": [
    "start_knn_gs= time.time()\n",
    "grid_search2 = GridSearchCV(model2, param2, cv=5).fit(X_train, y_train)\n",
    "end_knn_gs = time.time()\n",
    "knn_best_params = grid_search2.best_params_\n",
    "knn_best_score = grid_search2.best_score_\n",
    "print('Набор гиперпараметров для KNN: ', knn_best_params)"
   ]
  },
  {
   "cell_type": "markdown",
   "id": "318d0585",
   "metadata": {},
   "source": [
    "Используя полученные комбинации гиперпараметров проведем отдельную кросс-валидацию для тестовой выборки."
   ]
  },
  {
   "cell_type": "code",
   "execution_count": 59,
   "id": "63fc8eef",
   "metadata": {},
   "outputs": [
    {
     "data": {
      "text/plain": [
       "0.8844"
      ]
     },
     "execution_count": 59,
     "metadata": {},
     "output_type": "execute_result"
    }
   ],
   "source": [
    "cv1 = cross_val_score(DecisionTreeClassifier(criterion='gini', max_depth=8, max_features='sqrt', min_samples_split=3, min_samples_leaf=1), \n",
    "                             X_test,            \n",
    "                             y_test,    \n",
    "                             cv = 5,        \n",
    "                             scoring = 'accuracy', \n",
    "                             n_jobs=-1).mean() \n",
    "cv1"
   ]
  },
  {
   "cell_type": "code",
   "execution_count": 60,
   "id": "942b5440",
   "metadata": {},
   "outputs": [
    {
     "data": {
      "text/plain": [
       "0.9054"
      ]
     },
     "execution_count": 60,
     "metadata": {},
     "output_type": "execute_result"
    }
   ],
   "source": [
    "cv2 = cross_val_score(KNeighborsClassifier(n_neighbors=5, weights='distance', metric='manhattan'),\n",
    "                             X_test,            \n",
    "                             y_test,    \n",
    "                             cv = 5,        \n",
    "                             scoring = 'accuracy', \n",
    "                             n_jobs=-1).mean() \n",
    "cv2"
   ]
  },
  {
   "cell_type": "markdown",
   "id": "57231b05",
   "metadata": {},
   "source": [
    "Еще один распространенный метод оптимизации - RandomizedSearchCV. Он работает быстрее предыдущего, поскольку не перебирает каждый набор, а выбирает рандомные. Однако всегда есть шанс пропустить некоторые комбинации гиперпараметров."
   ]
  },
  {
   "cell_type": "code",
   "execution_count": 61,
   "id": "f219ee40",
   "metadata": {},
   "outputs": [
    {
     "name": "stdout",
     "output_type": "stream",
     "text": [
      "Набор гиперпараметров для Decision Tree:  {'min_samples_split': 3, 'min_samples_leaf': 1, 'max_features': 'sqrt', 'max_depth': 8, 'criterion': 'entropy'}\n"
     ]
    }
   ],
   "source": [
    "start_dt_rs = time.time()\n",
    "random_search1 = RandomizedSearchCV(model1, param_distributions=param1, cv=5).fit(X_train, y_train)\n",
    "end_dt_rs = time.time()\n",
    "dt_best_params2 = random_search1.best_params_\n",
    "dt_best_score2 = random_search1.best_score_\n",
    "print('Набор гиперпараметров для Decision Tree: ', dt_best_params2)"
   ]
  },
  {
   "cell_type": "code",
   "execution_count": 62,
   "id": "5e1e007e",
   "metadata": {},
   "outputs": [
    {
     "name": "stdout",
     "output_type": "stream",
     "text": [
      "Набор гиперпараметров для KNN:  {'weights': 'distance', 'n_neighbors': 5, 'metric': 'manhattan'}\n"
     ]
    }
   ],
   "source": [
    "start_knn_rs = time.time()\n",
    "random_search2 = RandomizedSearchCV(model2, param_distributions=param2, cv=5).fit(X_train, y_train)\n",
    "end_knn_rs = time.time()\n",
    "knn_best_params2 = random_search2.best_params_\n",
    "knn_best_score2 = random_search2.best_score_\n",
    "print('Набор гиперпараметров для KNN: ', knn_best_params2)"
   ]
  },
  {
   "cell_type": "markdown",
   "id": "96c3e342",
   "metadata": {},
   "source": [
    "Тоже проведем отдельную кросс-валидацию для тестовой выборки на полученных данных."
   ]
  },
  {
   "cell_type": "code",
   "execution_count": 63,
   "id": "48a7a6a8",
   "metadata": {},
   "outputs": [
    {
     "data": {
      "text/plain": [
       "0.8868"
      ]
     },
     "execution_count": 63,
     "metadata": {},
     "output_type": "execute_result"
    }
   ],
   "source": [
    "cv3 = cross_val_score(DecisionTreeClassifier(criterion='entropy', max_depth=8, max_features='sqrt', min_samples_split=2, min_samples_leaf=4), \n",
    "                             X_test,            \n",
    "                             y_test,    \n",
    "                             cv = 5,        \n",
    "                             scoring = 'accuracy', \n",
    "                             n_jobs=-1).mean() \n",
    "cv3"
   ]
  },
  {
   "cell_type": "code",
   "execution_count": 64,
   "id": "72d39fcf",
   "metadata": {},
   "outputs": [
    {
     "data": {
      "text/plain": [
       "0.8997999999999999"
      ]
     },
     "execution_count": 64,
     "metadata": {},
     "output_type": "execute_result"
    }
   ],
   "source": [
    "cv4 = cross_val_score(KNeighborsClassifier(n_neighbors=9, weights='distance', metric='manhattan'),\n",
    "                             X_test,            \n",
    "                             y_test,    \n",
    "                             cv = 5,        \n",
    "                             scoring = 'accuracy', \n",
    "                             n_jobs=-1).mean() \n",
    "cv4"
   ]
  },
  {
   "cell_type": "markdown",
   "id": "f8ec951c",
   "metadata": {},
   "source": [
    "Существует метод, сочитающий в себе вероятностные модели с методами оптимизации, чтобы находить наилучшую комбинацию гиперпараметров - BayesSearchCV. Сам метод заключается в моделировании функции оценки производительности модели и в дальнейшем использования этой модели для выбора следующей точки для оценки. BayesSearchCV обычно требует меньше итераций для достижения наилучшего результата. "
   ]
  },
  {
   "cell_type": "code",
   "execution_count": 65,
   "id": "5c3a43fa",
   "metadata": {},
   "outputs": [
    {
     "name": "stdout",
     "output_type": "stream",
     "text": [
      "Набор гиперпараметров для Decision Tree:  OrderedDict([('criterion', 'gini'), ('max_depth', 8), ('max_features', 'log2'), ('min_samples_leaf', 5), ('min_samples_split', 4)])\n"
     ]
    }
   ],
   "source": [
    "start_dt_bs = time.time()\n",
    "bayes_search1 = BayesSearchCV(model1, param1, n_iter=20, cv=5).fit(X_train, y_train)\n",
    "end_dt_bs = time.time()\n",
    "dt_best_params3 = bayes_search1.best_params_\n",
    "dt_best_score3 = bayes_search1.best_score_\n",
    "print('Набор гиперпараметров для Decision Tree: ', dt_best_params3)"
   ]
  },
  {
   "cell_type": "code",
   "execution_count": 66,
   "id": "2cafab14",
   "metadata": {},
   "outputs": [
    {
     "name": "stdout",
     "output_type": "stream",
     "text": [
      "Набор гиперпараметров для KNN:  OrderedDict([('metric', 'manhattan'), ('n_neighbors', 5), ('weights', 'distance')])\n"
     ]
    }
   ],
   "source": [
    "start_knn_bs = time.time()\n",
    "bayes_search2 = BayesSearchCV(model2, param2, n_iter=20, cv=5).fit(X_train, y_train)\n",
    "end_knn_bs = time.time()\n",
    "knn_best_params3 = bayes_search2.best_params_\n",
    "knn_best_score3 = bayes_search2.best_score_\n",
    "print('Набор гиперпараметров для KNN: ', knn_best_params3)"
   ]
  },
  {
   "cell_type": "markdown",
   "id": "1bfe1864",
   "metadata": {},
   "source": [
    "Найдем оценки через кросс-валидацию:"
   ]
  },
  {
   "cell_type": "code",
   "execution_count": 67,
   "id": "bdb5a476",
   "metadata": {},
   "outputs": [
    {
     "data": {
      "text/plain": [
       "0.8916000000000001"
      ]
     },
     "execution_count": 67,
     "metadata": {},
     "output_type": "execute_result"
    }
   ],
   "source": [
    "cv5 = cross_val_score(DecisionTreeClassifier(criterion='gini', max_depth=8, max_features='log2', min_samples_split=3, min_samples_leaf=1), \n",
    "                             X_test,            \n",
    "                             y_test,    \n",
    "                             cv = 5,        \n",
    "                             scoring = 'accuracy', \n",
    "                             n_jobs=-1).mean() \n",
    "cv5"
   ]
  },
  {
   "cell_type": "code",
   "execution_count": 68,
   "id": "2aaff586",
   "metadata": {},
   "outputs": [
    {
     "data": {
      "text/plain": [
       "0.9054"
      ]
     },
     "execution_count": 68,
     "metadata": {},
     "output_type": "execute_result"
    }
   ],
   "source": [
    "cv6 = cross_val_score(KNeighborsClassifier(n_neighbors=5, weights='distance', metric='manhattan'),\n",
    "                             X_test,            \n",
    "                             y_test,    \n",
    "                             cv = 5,        \n",
    "                             scoring = 'accuracy', \n",
    "                             n_jobs=-1).mean() \n",
    "cv6"
   ]
  },
  {
   "cell_type": "markdown",
   "id": "873b4a6a",
   "metadata": {},
   "source": [
    "Следующий метод, который будем использовать - это оптимизация с помощью библиотеки Optuna. Она предоставляет высокоуровневый интерфейс для оптимизации с использованием адаптивного методологического пространства для эффективного поиска. Библиотекой поддерживаются разнообразные стратегии оптимизации гиперпараметров."
   ]
  },
  {
   "cell_type": "markdown",
   "id": "f9274676",
   "metadata": {},
   "source": [
    "Работа с этой библиотекой происходит несколько иначе, если сравнивать с предыдущими методами."
   ]
  },
  {
   "cell_type": "code",
   "execution_count": 69,
   "id": "29f5f607",
   "metadata": {},
   "outputs": [
    {
     "name": "stderr",
     "output_type": "stream",
     "text": [
      "[I 2024-05-12 22:54:36,745] A new study created in memory with name: no-name-85faf653-d565-4250-aa4d-7c1084f00ca1\n",
      "[I 2024-05-12 22:54:36,800] Trial 0 finished with value: 0.79695 and parameters: {'max_features': 'log2', 'max_depth': 4, 'min_samples_split': 2, 'min_samples_leaf': 2, 'criterion': 'gini'}. Best is trial 0 with value: 0.79695.\n",
      "[I 2024-05-12 22:54:36,866] Trial 1 finished with value: 0.89205 and parameters: {'max_features': 'sqrt', 'max_depth': 8, 'min_samples_split': 3, 'min_samples_leaf': 2, 'criterion': 'entropy'}. Best is trial 1 with value: 0.89205.\n",
      "[I 2024-05-12 22:54:36,902] Trial 2 finished with value: 0.7766 and parameters: {'max_features': 'sqrt', 'max_depth': 3, 'min_samples_split': 5, 'min_samples_leaf': 3, 'criterion': 'entropy'}. Best is trial 1 with value: 0.89205.\n",
      "[I 2024-05-12 22:54:36,959] Trial 3 finished with value: 0.867 and parameters: {'max_features': 'sqrt', 'max_depth': 7, 'min_samples_split': 3, 'min_samples_leaf': 4, 'criterion': 'entropy'}. Best is trial 1 with value: 0.89205.\n",
      "[I 2024-05-12 22:54:37,006] Trial 4 finished with value: 0.81555 and parameters: {'max_features': 'log2', 'max_depth': 5, 'min_samples_split': 5, 'min_samples_leaf': 5, 'criterion': 'gini'}. Best is trial 1 with value: 0.89205.\n",
      "[I 2024-05-12 22:54:37,060] Trial 5 finished with value: 0.8792500000000001 and parameters: {'max_features': 'sqrt', 'max_depth': 7, 'min_samples_split': 2, 'min_samples_leaf': 3, 'criterion': 'gini'}. Best is trial 1 with value: 0.89205.\n",
      "[I 2024-05-12 22:54:37,110] Trial 6 finished with value: 0.8249000000000001 and parameters: {'max_features': 'sqrt', 'max_depth': 5, 'min_samples_split': 5, 'min_samples_leaf': 3, 'criterion': 'entropy'}. Best is trial 1 with value: 0.89205.\n",
      "[I 2024-05-12 22:54:37,159] Trial 7 finished with value: 0.8332499999999999 and parameters: {'max_features': 'log2', 'max_depth': 5, 'min_samples_split': 3, 'min_samples_leaf': 5, 'criterion': 'gini'}. Best is trial 1 with value: 0.89205.\n",
      "[I 2024-05-12 22:54:37,208] Trial 8 finished with value: 0.8009000000000001 and parameters: {'max_features': 'sqrt', 'max_depth': 4, 'min_samples_split': 4, 'min_samples_leaf': 4, 'criterion': 'entropy'}. Best is trial 1 with value: 0.89205.\n",
      "[I 2024-05-12 22:54:37,251] Trial 9 finished with value: 0.7717500000000002 and parameters: {'max_features': 'log2', 'max_depth': 3, 'min_samples_split': 4, 'min_samples_leaf': 1, 'criterion': 'gini'}. Best is trial 1 with value: 0.89205.\n",
      "[I 2024-05-12 22:54:37,322] Trial 10 finished with value: 0.8956500000000002 and parameters: {'max_features': 'sqrt', 'max_depth': 8, 'min_samples_split': 3, 'min_samples_leaf': 1, 'criterion': 'entropy'}. Best is trial 10 with value: 0.8956500000000002.\n",
      "[I 2024-05-12 22:54:37,395] Trial 11 finished with value: 0.88605 and parameters: {'max_features': 'sqrt', 'max_depth': 8, 'min_samples_split': 3, 'min_samples_leaf': 1, 'criterion': 'entropy'}. Best is trial 10 with value: 0.8956500000000002.\n",
      "[I 2024-05-12 22:54:37,468] Trial 12 finished with value: 0.8839500000000001 and parameters: {'max_features': 'sqrt', 'max_depth': 8, 'min_samples_split': 3, 'min_samples_leaf': 2, 'criterion': 'entropy'}. Best is trial 10 with value: 0.8956500000000002.\n",
      "[I 2024-05-12 22:54:37,533] Trial 13 finished with value: 0.8538500000000001 and parameters: {'max_features': 'sqrt', 'max_depth': 7, 'min_samples_split': 2, 'min_samples_leaf': 2, 'criterion': 'entropy'}. Best is trial 10 with value: 0.8956500000000002.\n",
      "[I 2024-05-12 22:54:37,603] Trial 14 finished with value: 0.8801 and parameters: {'max_features': 'sqrt', 'max_depth': 8, 'min_samples_split': 4, 'min_samples_leaf': 1, 'criterion': 'entropy'}. Best is trial 10 with value: 0.8956500000000002.\n",
      "[I 2024-05-12 22:54:37,666] Trial 15 finished with value: 0.8372499999999998 and parameters: {'max_features': 'sqrt', 'max_depth': 6, 'min_samples_split': 3, 'min_samples_leaf': 2, 'criterion': 'entropy'}. Best is trial 10 with value: 0.8956500000000002.\n",
      "[I 2024-05-12 22:54:37,728] Trial 16 finished with value: 0.8344999999999999 and parameters: {'max_features': 'sqrt', 'max_depth': 6, 'min_samples_split': 4, 'min_samples_leaf': 1, 'criterion': 'entropy'}. Best is trial 10 with value: 0.8956500000000002.\n",
      "[I 2024-05-12 22:54:37,794] Trial 17 finished with value: 0.86305 and parameters: {'max_features': 'sqrt', 'max_depth': 7, 'min_samples_split': 2, 'min_samples_leaf': 2, 'criterion': 'entropy'}. Best is trial 10 with value: 0.8956500000000002.\n",
      "[I 2024-05-12 22:54:37,866] Trial 18 finished with value: 0.8752000000000001 and parameters: {'max_features': 'log2', 'max_depth': 8, 'min_samples_split': 3, 'min_samples_leaf': 1, 'criterion': 'entropy'}. Best is trial 10 with value: 0.8956500000000002.\n",
      "[I 2024-05-12 22:54:37,927] Trial 19 finished with value: 0.8413999999999999 and parameters: {'max_features': 'sqrt', 'max_depth': 6, 'min_samples_split': 4, 'min_samples_leaf': 2, 'criterion': 'entropy'}. Best is trial 10 with value: 0.8956500000000002.\n",
      "[I 2024-05-12 22:54:37,998] Trial 20 finished with value: 0.8795 and parameters: {'max_features': 'sqrt', 'max_depth': 8, 'min_samples_split': 2, 'min_samples_leaf': 4, 'criterion': 'entropy'}. Best is trial 10 with value: 0.8956500000000002.\n",
      "[I 2024-05-12 22:54:38,065] Trial 21 finished with value: 0.88895 and parameters: {'max_features': 'sqrt', 'max_depth': 8, 'min_samples_split': 3, 'min_samples_leaf': 1, 'criterion': 'entropy'}. Best is trial 10 with value: 0.8956500000000002.\n",
      "[I 2024-05-12 22:54:38,129] Trial 22 finished with value: 0.85685 and parameters: {'max_features': 'sqrt', 'max_depth': 7, 'min_samples_split': 3, 'min_samples_leaf': 1, 'criterion': 'entropy'}. Best is trial 10 with value: 0.8956500000000002.\n",
      "[I 2024-05-12 22:54:38,198] Trial 23 finished with value: 0.8773500000000001 and parameters: {'max_features': 'sqrt', 'max_depth': 8, 'min_samples_split': 3, 'min_samples_leaf': 1, 'criterion': 'entropy'}. Best is trial 10 with value: 0.8956500000000002.\n",
      "[I 2024-05-12 22:54:38,260] Trial 24 finished with value: 0.8623999999999998 and parameters: {'max_features': 'sqrt', 'max_depth': 7, 'min_samples_split': 3, 'min_samples_leaf': 2, 'criterion': 'entropy'}. Best is trial 10 with value: 0.8956500000000002.\n",
      "[I 2024-05-12 22:54:38,330] Trial 25 finished with value: 0.8863 and parameters: {'max_features': 'sqrt', 'max_depth': 8, 'min_samples_split': 4, 'min_samples_leaf': 1, 'criterion': 'entropy'}. Best is trial 10 with value: 0.8956500000000002.\n",
      "[I 2024-05-12 22:54:38,392] Trial 26 finished with value: 0.8625999999999999 and parameters: {'max_features': 'log2', 'max_depth': 7, 'min_samples_split': 3, 'min_samples_leaf': 2, 'criterion': 'gini'}. Best is trial 10 with value: 0.8956500000000002.\n",
      "[I 2024-05-12 22:54:38,462] Trial 27 finished with value: 0.8783000000000001 and parameters: {'max_features': 'sqrt', 'max_depth': 8, 'min_samples_split': 2, 'min_samples_leaf': 1, 'criterion': 'entropy'}. Best is trial 10 with value: 0.8956500000000002.\n",
      "[I 2024-05-12 22:54:38,519] Trial 28 finished with value: 0.8393499999999999 and parameters: {'max_features': 'sqrt', 'max_depth': 6, 'min_samples_split': 3, 'min_samples_leaf': 2, 'criterion': 'entropy'}. Best is trial 10 with value: 0.8956500000000002.\n",
      "[I 2024-05-12 22:54:38,567] Trial 29 finished with value: 0.80015 and parameters: {'max_features': 'log2', 'max_depth': 4, 'min_samples_split': 2, 'min_samples_leaf': 3, 'criterion': 'gini'}. Best is trial 10 with value: 0.8956500000000002.\n",
      "[I 2024-05-12 22:54:38,634] Trial 30 finished with value: 0.8949999999999999 and parameters: {'max_features': 'sqrt', 'max_depth': 8, 'min_samples_split': 4, 'min_samples_leaf': 1, 'criterion': 'entropy'}. Best is trial 10 with value: 0.8956500000000002.\n",
      "[I 2024-05-12 22:54:38,699] Trial 31 finished with value: 0.88285 and parameters: {'max_features': 'sqrt', 'max_depth': 8, 'min_samples_split': 4, 'min_samples_leaf': 1, 'criterion': 'entropy'}. Best is trial 10 with value: 0.8956500000000002.\n",
      "[I 2024-05-12 22:54:38,766] Trial 32 finished with value: 0.8946999999999999 and parameters: {'max_features': 'sqrt', 'max_depth': 8, 'min_samples_split': 4, 'min_samples_leaf': 1, 'criterion': 'entropy'}. Best is trial 10 with value: 0.8956500000000002.\n",
      "[I 2024-05-12 22:54:38,828] Trial 33 finished with value: 0.8628500000000001 and parameters: {'max_features': 'sqrt', 'max_depth': 7, 'min_samples_split': 5, 'min_samples_leaf': 2, 'criterion': 'entropy'}. Best is trial 10 with value: 0.8956500000000002.\n",
      "[I 2024-05-12 22:54:38,894] Trial 34 finished with value: 0.88605 and parameters: {'max_features': 'sqrt', 'max_depth': 8, 'min_samples_split': 4, 'min_samples_leaf': 1, 'criterion': 'entropy'}. Best is trial 10 with value: 0.8956500000000002.\n",
      "[I 2024-05-12 22:54:38,960] Trial 35 finished with value: 0.8603 and parameters: {'max_features': 'sqrt', 'max_depth': 7, 'min_samples_split': 4, 'min_samples_leaf': 2, 'criterion': 'entropy'}. Best is trial 10 with value: 0.8956500000000002.\n",
      "[I 2024-05-12 22:54:39,026] Trial 36 finished with value: 0.8707499999999999 and parameters: {'max_features': 'sqrt', 'max_depth': 7, 'min_samples_split': 5, 'min_samples_leaf': 3, 'criterion': 'gini'}. Best is trial 10 with value: 0.8956500000000002.\n",
      "[I 2024-05-12 22:54:39,096] Trial 37 finished with value: 0.88055 and parameters: {'max_features': 'log2', 'max_depth': 8, 'min_samples_split': 4, 'min_samples_leaf': 1, 'criterion': 'entropy'}. Best is trial 10 with value: 0.8956500000000002.\n",
      "[I 2024-05-12 22:54:39,162] Trial 38 finished with value: 0.86945 and parameters: {'max_features': 'sqrt', 'max_depth': 7, 'min_samples_split': 5, 'min_samples_leaf': 1, 'criterion': 'entropy'}. Best is trial 10 with value: 0.8956500000000002.\n",
      "[I 2024-05-12 22:54:39,229] Trial 39 finished with value: 0.8801 and parameters: {'max_features': 'sqrt', 'max_depth': 8, 'min_samples_split': 4, 'min_samples_leaf': 3, 'criterion': 'entropy'}. Best is trial 10 with value: 0.8956500000000002.\n",
      "[I 2024-05-12 22:54:39,272] Trial 40 finished with value: 0.7636000000000001 and parameters: {'max_features': 'log2', 'max_depth': 3, 'min_samples_split': 4, 'min_samples_leaf': 2, 'criterion': 'gini'}. Best is trial 10 with value: 0.8956500000000002.\n",
      "[I 2024-05-12 22:54:39,340] Trial 41 finished with value: 0.8874500000000001 and parameters: {'max_features': 'sqrt', 'max_depth': 8, 'min_samples_split': 3, 'min_samples_leaf': 1, 'criterion': 'entropy'}. Best is trial 10 with value: 0.8956500000000002.\n",
      "[I 2024-05-12 22:54:39,407] Trial 42 finished with value: 0.8896999999999998 and parameters: {'max_features': 'sqrt', 'max_depth': 8, 'min_samples_split': 3, 'min_samples_leaf': 1, 'criterion': 'entropy'}. Best is trial 10 with value: 0.8956500000000002.\n",
      "[I 2024-05-12 22:54:39,479] Trial 43 finished with value: 0.8807500000000001 and parameters: {'max_features': 'sqrt', 'max_depth': 8, 'min_samples_split': 3, 'min_samples_leaf': 1, 'criterion': 'entropy'}. Best is trial 10 with value: 0.8956500000000002.\n",
      "[I 2024-05-12 22:54:39,551] Trial 44 finished with value: 0.88175 and parameters: {'max_features': 'sqrt', 'max_depth': 8, 'min_samples_split': 3, 'min_samples_leaf': 1, 'criterion': 'entropy'}. Best is trial 10 with value: 0.8956500000000002.\n",
      "[I 2024-05-12 22:54:39,616] Trial 45 finished with value: 0.8599499999999999 and parameters: {'max_features': 'sqrt', 'max_depth': 7, 'min_samples_split': 3, 'min_samples_leaf': 5, 'criterion': 'entropy'}. Best is trial 10 with value: 0.8956500000000002.\n",
      "[I 2024-05-12 22:54:39,671] Trial 46 finished with value: 0.81315 and parameters: {'max_features': 'sqrt', 'max_depth': 5, 'min_samples_split': 4, 'min_samples_leaf': 1, 'criterion': 'entropy'}. Best is trial 10 with value: 0.8956500000000002.\n",
      "[I 2024-05-12 22:54:39,736] Trial 47 finished with value: 0.8981 and parameters: {'max_features': 'sqrt', 'max_depth': 8, 'min_samples_split': 3, 'min_samples_leaf': 2, 'criterion': 'gini'}. Best is trial 47 with value: 0.8981.\n",
      "[I 2024-05-12 22:54:39,803] Trial 48 finished with value: 0.8871500000000001 and parameters: {'max_features': 'sqrt', 'max_depth': 8, 'min_samples_split': 3, 'min_samples_leaf': 2, 'criterion': 'gini'}. Best is trial 47 with value: 0.8981.\n",
      "[I 2024-05-12 22:54:39,863] Trial 49 finished with value: 0.8750500000000001 and parameters: {'max_features': 'sqrt', 'max_depth': 7, 'min_samples_split': 4, 'min_samples_leaf': 3, 'criterion': 'gini'}. Best is trial 47 with value: 0.8981.\n",
      "[I 2024-05-12 22:54:39,933] Trial 50 finished with value: 0.8887 and parameters: {'max_features': 'sqrt', 'max_depth': 8, 'min_samples_split': 4, 'min_samples_leaf': 4, 'criterion': 'gini'}. Best is trial 47 with value: 0.8981.\n",
      "[I 2024-05-12 22:54:40,005] Trial 51 finished with value: 0.9037499999999999 and parameters: {'max_features': 'sqrt', 'max_depth': 8, 'min_samples_split': 3, 'min_samples_leaf': 1, 'criterion': 'gini'}. Best is trial 51 with value: 0.9037499999999999.\n",
      "[I 2024-05-12 22:54:40,074] Trial 52 finished with value: 0.89225 and parameters: {'max_features': 'sqrt', 'max_depth': 8, 'min_samples_split': 3, 'min_samples_leaf': 2, 'criterion': 'gini'}. Best is trial 51 with value: 0.9037499999999999.\n",
      "[I 2024-05-12 22:54:40,141] Trial 53 finished with value: 0.89665 and parameters: {'max_features': 'sqrt', 'max_depth': 8, 'min_samples_split': 3, 'min_samples_leaf': 1, 'criterion': 'gini'}. Best is trial 51 with value: 0.9037499999999999.\n",
      "[I 2024-05-12 22:54:40,207] Trial 54 finished with value: 0.8878 and parameters: {'max_features': 'sqrt', 'max_depth': 8, 'min_samples_split': 3, 'min_samples_leaf': 1, 'criterion': 'gini'}. Best is trial 51 with value: 0.9037499999999999.\n",
      "[I 2024-05-12 22:54:40,274] Trial 55 finished with value: 0.9004 and parameters: {'max_features': 'sqrt', 'max_depth': 8, 'min_samples_split': 3, 'min_samples_leaf': 1, 'criterion': 'gini'}. Best is trial 51 with value: 0.9037499999999999.\n",
      "[I 2024-05-12 22:54:40,338] Trial 56 finished with value: 0.87135 and parameters: {'max_features': 'sqrt', 'max_depth': 7, 'min_samples_split': 3, 'min_samples_leaf': 1, 'criterion': 'gini'}. Best is trial 51 with value: 0.9037499999999999.\n",
      "[I 2024-05-12 22:54:40,405] Trial 57 finished with value: 0.8964000000000001 and parameters: {'max_features': 'sqrt', 'max_depth': 8, 'min_samples_split': 3, 'min_samples_leaf': 1, 'criterion': 'gini'}. Best is trial 51 with value: 0.9037499999999999.\n",
      "[I 2024-05-12 22:54:40,471] Trial 58 finished with value: 0.91005 and parameters: {'max_features': 'log2', 'max_depth': 8, 'min_samples_split': 2, 'min_samples_leaf': 1, 'criterion': 'gini'}. Best is trial 58 with value: 0.91005.\n",
      "[I 2024-05-12 22:54:40,524] Trial 59 finished with value: 0.8299999999999998 and parameters: {'max_features': 'log2', 'max_depth': 5, 'min_samples_split': 2, 'min_samples_leaf': 1, 'criterion': 'gini'}. Best is trial 58 with value: 0.91005.\n",
      "[I 2024-05-12 22:54:40,588] Trial 60 finished with value: 0.8821000000000001 and parameters: {'max_features': 'log2', 'max_depth': 7, 'min_samples_split': 2, 'min_samples_leaf': 2, 'criterion': 'gini'}. Best is trial 58 with value: 0.91005.\n",
      "[I 2024-05-12 22:54:40,654] Trial 61 finished with value: 0.8985 and parameters: {'max_features': 'log2', 'max_depth': 8, 'min_samples_split': 3, 'min_samples_leaf': 1, 'criterion': 'gini'}. Best is trial 58 with value: 0.91005.\n",
      "[I 2024-05-12 22:54:40,725] Trial 62 finished with value: 0.9051500000000001 and parameters: {'max_features': 'log2', 'max_depth': 8, 'min_samples_split': 3, 'min_samples_leaf': 1, 'criterion': 'gini'}. Best is trial 58 with value: 0.91005.\n",
      "[I 2024-05-12 22:54:40,794] Trial 63 finished with value: 0.89495 and parameters: {'max_features': 'log2', 'max_depth': 8, 'min_samples_split': 2, 'min_samples_leaf': 1, 'criterion': 'gini'}. Best is trial 58 with value: 0.91005.\n",
      "[I 2024-05-12 22:54:40,863] Trial 64 finished with value: 0.8987 and parameters: {'max_features': 'log2', 'max_depth': 8, 'min_samples_split': 3, 'min_samples_leaf': 1, 'criterion': 'gini'}. Best is trial 58 with value: 0.91005.\n",
      "[I 2024-05-12 22:54:40,911] Trial 65 finished with value: 0.7898499999999999 and parameters: {'max_features': 'log2', 'max_depth': 4, 'min_samples_split': 3, 'min_samples_leaf': 1, 'criterion': 'gini'}. Best is trial 58 with value: 0.91005.\n",
      "[I 2024-05-12 22:54:40,977] Trial 66 finished with value: 0.8895 and parameters: {'max_features': 'log2', 'max_depth': 8, 'min_samples_split': 2, 'min_samples_leaf': 1, 'criterion': 'gini'}. Best is trial 58 with value: 0.91005.\n",
      "[I 2024-05-12 22:54:41,043] Trial 67 finished with value: 0.9057000000000001 and parameters: {'max_features': 'log2', 'max_depth': 8, 'min_samples_split': 3, 'min_samples_leaf': 1, 'criterion': 'gini'}. Best is trial 58 with value: 0.91005.\n",
      "[I 2024-05-12 22:54:41,110] Trial 68 finished with value: 0.90395 and parameters: {'max_features': 'log2', 'max_depth': 8, 'min_samples_split': 3, 'min_samples_leaf': 1, 'criterion': 'gini'}. Best is trial 58 with value: 0.91005.\n",
      "[I 2024-05-12 22:54:41,169] Trial 69 finished with value: 0.8557499999999999 and parameters: {'max_features': 'log2', 'max_depth': 6, 'min_samples_split': 2, 'min_samples_leaf': 1, 'criterion': 'gini'}. Best is trial 58 with value: 0.91005.\n",
      "[I 2024-05-12 22:54:41,234] Trial 70 finished with value: 0.8731 and parameters: {'max_features': 'log2', 'max_depth': 7, 'min_samples_split': 3, 'min_samples_leaf': 1, 'criterion': 'gini'}. Best is trial 58 with value: 0.91005.\n",
      "[I 2024-05-12 22:54:41,302] Trial 71 finished with value: 0.9038999999999999 and parameters: {'max_features': 'log2', 'max_depth': 8, 'min_samples_split': 3, 'min_samples_leaf': 1, 'criterion': 'gini'}. Best is trial 58 with value: 0.91005.\n",
      "[I 2024-05-12 22:54:41,372] Trial 72 finished with value: 0.9025000000000001 and parameters: {'max_features': 'log2', 'max_depth': 8, 'min_samples_split': 3, 'min_samples_leaf': 1, 'criterion': 'gini'}. Best is trial 58 with value: 0.91005.\n",
      "[I 2024-05-12 22:54:41,441] Trial 73 finished with value: 0.90145 and parameters: {'max_features': 'log2', 'max_depth': 8, 'min_samples_split': 3, 'min_samples_leaf': 1, 'criterion': 'gini'}. Best is trial 58 with value: 0.91005.\n",
      "[I 2024-05-12 22:54:41,513] Trial 74 finished with value: 0.8972 and parameters: {'max_features': 'log2', 'max_depth': 8, 'min_samples_split': 3, 'min_samples_leaf': 4, 'criterion': 'gini'}. Best is trial 58 with value: 0.91005.\n",
      "[I 2024-05-12 22:54:41,585] Trial 75 finished with value: 0.89205 and parameters: {'max_features': 'log2', 'max_depth': 8, 'min_samples_split': 3, 'min_samples_leaf': 1, 'criterion': 'gini'}. Best is trial 58 with value: 0.91005.\n",
      "[I 2024-05-12 22:54:41,654] Trial 76 finished with value: 0.8951499999999999 and parameters: {'max_features': 'log2', 'max_depth': 8, 'min_samples_split': 3, 'min_samples_leaf': 1, 'criterion': 'gini'}. Best is trial 58 with value: 0.91005.\n",
      "[I 2024-05-12 22:54:41,730] Trial 77 finished with value: 0.89405 and parameters: {'max_features': 'log2', 'max_depth': 8, 'min_samples_split': 3, 'min_samples_leaf': 1, 'criterion': 'gini'}. Best is trial 58 with value: 0.91005.\n",
      "[I 2024-05-12 22:54:41,796] Trial 78 finished with value: 0.88655 and parameters: {'max_features': 'log2', 'max_depth': 8, 'min_samples_split': 2, 'min_samples_leaf': 1, 'criterion': 'gini'}. Best is trial 58 with value: 0.91005.\n",
      "[I 2024-05-12 22:54:41,859] Trial 79 finished with value: 0.8769500000000001 and parameters: {'max_features': 'log2', 'max_depth': 7, 'min_samples_split': 3, 'min_samples_leaf': 1, 'criterion': 'gini'}. Best is trial 58 with value: 0.91005.\n",
      "[I 2024-05-12 22:54:41,926] Trial 80 finished with value: 0.90815 and parameters: {'max_features': 'log2', 'max_depth': 8, 'min_samples_split': 3, 'min_samples_leaf': 1, 'criterion': 'gini'}. Best is trial 58 with value: 0.91005.\n",
      "[I 2024-05-12 22:54:41,992] Trial 81 finished with value: 0.9000999999999999 and parameters: {'max_features': 'log2', 'max_depth': 8, 'min_samples_split': 3, 'min_samples_leaf': 1, 'criterion': 'gini'}. Best is trial 58 with value: 0.91005.\n",
      "[I 2024-05-12 22:54:42,059] Trial 82 finished with value: 0.8977 and parameters: {'max_features': 'log2', 'max_depth': 8, 'min_samples_split': 3, 'min_samples_leaf': 1, 'criterion': 'gini'}. Best is trial 58 with value: 0.91005.\n",
      "[I 2024-05-12 22:54:42,126] Trial 83 finished with value: 0.89155 and parameters: {'max_features': 'log2', 'max_depth': 8, 'min_samples_split': 3, 'min_samples_leaf': 1, 'criterion': 'gini'}. Best is trial 58 with value: 0.91005.\n",
      "[I 2024-05-12 22:54:42,192] Trial 84 finished with value: 0.8977 and parameters: {'max_features': 'log2', 'max_depth': 8, 'min_samples_split': 3, 'min_samples_leaf': 1, 'criterion': 'gini'}. Best is trial 58 with value: 0.91005.\n",
      "[I 2024-05-12 22:54:42,256] Trial 85 finished with value: 0.8938499999999999 and parameters: {'max_features': 'log2', 'max_depth': 8, 'min_samples_split': 3, 'min_samples_leaf': 1, 'criterion': 'gini'}. Best is trial 58 with value: 0.91005.\n",
      "[I 2024-05-12 22:54:42,324] Trial 86 finished with value: 0.8967 and parameters: {'max_features': 'log2', 'max_depth': 8, 'min_samples_split': 3, 'min_samples_leaf': 1, 'criterion': 'gini'}. Best is trial 58 with value: 0.91005.\n",
      "[I 2024-05-12 22:54:42,390] Trial 87 finished with value: 0.89975 and parameters: {'max_features': 'log2', 'max_depth': 8, 'min_samples_split': 3, 'min_samples_leaf': 1, 'criterion': 'gini'}. Best is trial 58 with value: 0.91005.\n",
      "[I 2024-05-12 22:54:42,455] Trial 88 finished with value: 0.87515 and parameters: {'max_features': 'log2', 'max_depth': 7, 'min_samples_split': 3, 'min_samples_leaf': 1, 'criterion': 'gini'}. Best is trial 58 with value: 0.91005.\n",
      "[I 2024-05-12 22:54:42,520] Trial 89 finished with value: 0.8902999999999999 and parameters: {'max_features': 'log2', 'max_depth': 8, 'min_samples_split': 3, 'min_samples_leaf': 1, 'criterion': 'gini'}. Best is trial 58 with value: 0.91005.\n",
      "[I 2024-05-12 22:54:42,587] Trial 90 finished with value: 0.8914500000000001 and parameters: {'max_features': 'log2', 'max_depth': 8, 'min_samples_split': 2, 'min_samples_leaf': 2, 'criterion': 'gini'}. Best is trial 58 with value: 0.91005.\n",
      "[I 2024-05-12 22:54:42,653] Trial 91 finished with value: 0.91105 and parameters: {'max_features': 'log2', 'max_depth': 8, 'min_samples_split': 3, 'min_samples_leaf': 1, 'criterion': 'gini'}. Best is trial 91 with value: 0.91105.\n",
      "[I 2024-05-12 22:54:42,719] Trial 92 finished with value: 0.8987999999999999 and parameters: {'max_features': 'log2', 'max_depth': 8, 'min_samples_split': 3, 'min_samples_leaf': 1, 'criterion': 'gini'}. Best is trial 91 with value: 0.91105.\n",
      "[I 2024-05-12 22:54:42,784] Trial 93 finished with value: 0.8997999999999999 and parameters: {'max_features': 'log2', 'max_depth': 8, 'min_samples_split': 3, 'min_samples_leaf': 1, 'criterion': 'gini'}. Best is trial 91 with value: 0.91105.\n",
      "[I 2024-05-12 22:54:42,850] Trial 94 finished with value: 0.89885 and parameters: {'max_features': 'log2', 'max_depth': 8, 'min_samples_split': 3, 'min_samples_leaf': 1, 'criterion': 'gini'}. Best is trial 91 with value: 0.91105.\n",
      "[I 2024-05-12 22:54:42,915] Trial 95 finished with value: 0.8909499999999999 and parameters: {'max_features': 'log2', 'max_depth': 8, 'min_samples_split': 3, 'min_samples_leaf': 1, 'criterion': 'gini'}. Best is trial 91 with value: 0.91105.\n",
      "[I 2024-05-12 22:54:42,959] Trial 96 finished with value: 0.78615 and parameters: {'max_features': 'log2', 'max_depth': 3, 'min_samples_split': 3, 'min_samples_leaf': 1, 'criterion': 'gini'}. Best is trial 91 with value: 0.91105.\n",
      "[I 2024-05-12 22:54:43,027] Trial 97 finished with value: 0.89865 and parameters: {'max_features': 'log2', 'max_depth': 8, 'min_samples_split': 3, 'min_samples_leaf': 2, 'criterion': 'gini'}. Best is trial 91 with value: 0.91105.\n",
      "[I 2024-05-12 22:54:43,087] Trial 98 finished with value: 0.8724000000000001 and parameters: {'max_features': 'log2', 'max_depth': 7, 'min_samples_split': 3, 'min_samples_leaf': 1, 'criterion': 'gini'}. Best is trial 91 with value: 0.91105.\n",
      "[I 2024-05-12 22:54:43,152] Trial 99 finished with value: 0.8956 and parameters: {'max_features': 'log2', 'max_depth': 8, 'min_samples_split': 3, 'min_samples_leaf': 1, 'criterion': 'gini'}. Best is trial 91 with value: 0.91105.\n"
     ]
    },
    {
     "name": "stdout",
     "output_type": "stream",
     "text": [
      "Лучшие гиперпараметры для DecisionTree: {'max_features': 'log2', 'max_depth': 8, 'min_samples_split': 3, 'min_samples_leaf': 1, 'criterion': 'gini'}\n"
     ]
    }
   ],
   "source": [
    "def objective(trial):\n",
    "    params = {\n",
    "        'max_features': trial.suggest_categorical('max_features', ['sqrt', 'log2']),\n",
    "        'max_depth': trial.suggest_int('max_depth', 3, 8),\n",
    "        'min_samples_split': trial.suggest_int('min_samples_split', 2, 5),\n",
    "        'min_samples_leaf': trial.suggest_int('min_samples_leaf', 1, 5),\n",
    "        'criterion': trial.suggest_categorical('criterion', ['gini', 'entropy'])\n",
    "    }\n",
    "    \n",
    "    dt = DecisionTreeClassifier(**params)\n",
    "    return cross_val_score(dt, X_train, y_train).mean()\n",
    "\n",
    "start_dt_op = time.time()\n",
    "study_dt1 = optuna.create_study(direction='maximize')\n",
    "study_dt1.optimize(objective, n_trials=100)\n",
    "end_dt_op = time.time()\n",
    "\n",
    "dt_best_params1 = study_dt1.best_params\n",
    "dt_best_value1 = study_dt1.best_value\n",
    "print(\"Лучшие гиперпараметры для DecisionTree:\", dt_best_params1)\n"
   ]
  },
  {
   "cell_type": "code",
   "execution_count": 70,
   "id": "82c0882e",
   "metadata": {},
   "outputs": [
    {
     "name": "stderr",
     "output_type": "stream",
     "text": [
      "[I 2024-05-12 22:54:46,001] A new study created in memory with name: no-name-e774b06c-8f13-4d33-a3c7-78bde683e9a8\n",
      "[I 2024-05-12 22:54:46,565] Trial 0 finished with value: 0.9126 and parameters: {'weights': 'uniform', 'n_neighbors': 5, 'metric': 'euclidean'}. Best is trial 0 with value: 0.9126.\n",
      "[I 2024-05-12 22:54:46,878] Trial 1 finished with value: 0.9379 and parameters: {'weights': 'distance', 'n_neighbors': 6, 'metric': 'minkowski'}. Best is trial 1 with value: 0.9379.\n",
      "[I 2024-05-12 22:54:47,749] Trial 2 finished with value: 0.92485 and parameters: {'weights': 'uniform', 'n_neighbors': 6, 'metric': 'manhattan'}. Best is trial 1 with value: 0.9379.\n",
      "[I 2024-05-12 22:54:48,020] Trial 3 finished with value: 0.9379 and parameters: {'weights': 'distance', 'n_neighbors': 6, 'metric': 'euclidean'}. Best is trial 1 with value: 0.9379.\n",
      "[I 2024-05-12 22:54:48,556] Trial 4 finished with value: 0.9071000000000001 and parameters: {'weights': 'uniform', 'n_neighbors': 6, 'metric': 'minkowski'}. Best is trial 1 with value: 0.9379.\n",
      "[I 2024-05-12 22:54:49,121] Trial 5 finished with value: 0.8941000000000001 and parameters: {'weights': 'uniform', 'n_neighbors': 9, 'metric': 'minkowski'}. Best is trial 1 with value: 0.9379.\n",
      "[I 2024-05-12 22:54:49,679] Trial 6 finished with value: 0.9071000000000001 and parameters: {'weights': 'uniform', 'n_neighbors': 6, 'metric': 'minkowski'}. Best is trial 1 with value: 0.9379.\n",
      "[I 2024-05-12 22:54:50,756] Trial 7 finished with value: 0.91515 and parameters: {'weights': 'uniform', 'n_neighbors': 9, 'metric': 'manhattan'}. Best is trial 1 with value: 0.9379.\n",
      "[I 2024-05-12 22:54:51,374] Trial 8 finished with value: 0.88925 and parameters: {'weights': 'uniform', 'n_neighbors': 10, 'metric': 'minkowski'}. Best is trial 1 with value: 0.9379.\n",
      "[I 2024-05-12 22:54:52,095] Trial 9 finished with value: 0.95045 and parameters: {'weights': 'distance', 'n_neighbors': 5, 'metric': 'manhattan'}. Best is trial 9 with value: 0.95045.\n",
      "[I 2024-05-12 22:54:52,826] Trial 10 finished with value: 0.94765 and parameters: {'weights': 'distance', 'n_neighbors': 8, 'metric': 'manhattan'}. Best is trial 9 with value: 0.95045.\n",
      "[I 2024-05-12 22:54:53,557] Trial 11 finished with value: 0.94765 and parameters: {'weights': 'distance', 'n_neighbors': 8, 'metric': 'manhattan'}. Best is trial 9 with value: 0.95045.\n",
      "[I 2024-05-12 22:54:54,286] Trial 12 finished with value: 0.94765 and parameters: {'weights': 'distance', 'n_neighbors': 8, 'metric': 'manhattan'}. Best is trial 9 with value: 0.95045.\n",
      "[I 2024-05-12 22:54:55,036] Trial 13 finished with value: 0.94825 and parameters: {'weights': 'distance', 'n_neighbors': 7, 'metric': 'manhattan'}. Best is trial 9 with value: 0.95045.\n",
      "[I 2024-05-12 22:54:55,750] Trial 14 finished with value: 0.95045 and parameters: {'weights': 'distance', 'n_neighbors': 5, 'metric': 'manhattan'}. Best is trial 9 with value: 0.95045.\n",
      "[I 2024-05-12 22:54:56,461] Trial 15 finished with value: 0.95045 and parameters: {'weights': 'distance', 'n_neighbors': 5, 'metric': 'manhattan'}. Best is trial 9 with value: 0.95045.\n",
      "[I 2024-05-12 22:54:57,167] Trial 16 finished with value: 0.95045 and parameters: {'weights': 'distance', 'n_neighbors': 5, 'metric': 'manhattan'}. Best is trial 9 with value: 0.95045.\n",
      "[I 2024-05-12 22:54:57,483] Trial 17 finished with value: 0.93625 and parameters: {'weights': 'distance', 'n_neighbors': 7, 'metric': 'euclidean'}. Best is trial 9 with value: 0.95045.\n",
      "[I 2024-05-12 22:54:58,223] Trial 18 finished with value: 0.95045 and parameters: {'weights': 'distance', 'n_neighbors': 5, 'metric': 'manhattan'}. Best is trial 9 with value: 0.95045.\n",
      "[I 2024-05-12 22:54:58,955] Trial 19 finished with value: 0.94825 and parameters: {'weights': 'distance', 'n_neighbors': 7, 'metric': 'manhattan'}. Best is trial 9 with value: 0.95045.\n",
      "[I 2024-05-12 22:54:59,225] Trial 20 finished with value: 0.9373000000000001 and parameters: {'weights': 'distance', 'n_neighbors': 5, 'metric': 'euclidean'}. Best is trial 9 with value: 0.95045.\n",
      "[I 2024-05-12 22:54:59,936] Trial 21 finished with value: 0.95045 and parameters: {'weights': 'distance', 'n_neighbors': 5, 'metric': 'manhattan'}. Best is trial 9 with value: 0.95045.\n",
      "[I 2024-05-12 22:55:00,660] Trial 22 finished with value: 0.95045 and parameters: {'weights': 'distance', 'n_neighbors': 5, 'metric': 'manhattan'}. Best is trial 9 with value: 0.95045.\n",
      "[I 2024-05-12 22:55:01,398] Trial 23 finished with value: 0.9502 and parameters: {'weights': 'distance', 'n_neighbors': 6, 'metric': 'manhattan'}. Best is trial 9 with value: 0.95045.\n",
      "[I 2024-05-12 22:55:02,117] Trial 24 finished with value: 0.95045 and parameters: {'weights': 'distance', 'n_neighbors': 5, 'metric': 'manhattan'}. Best is trial 9 with value: 0.95045.\n",
      "[I 2024-05-12 22:55:02,861] Trial 25 finished with value: 0.95045 and parameters: {'weights': 'distance', 'n_neighbors': 5, 'metric': 'manhattan'}. Best is trial 9 with value: 0.95045.\n",
      "[I 2024-05-12 22:55:03,606] Trial 26 finished with value: 0.9502 and parameters: {'weights': 'distance', 'n_neighbors': 6, 'metric': 'manhattan'}. Best is trial 9 with value: 0.95045.\n",
      "[I 2024-05-12 22:55:04,334] Trial 27 finished with value: 0.94825 and parameters: {'weights': 'distance', 'n_neighbors': 7, 'metric': 'manhattan'}. Best is trial 9 with value: 0.95045.\n",
      "[I 2024-05-12 22:55:04,607] Trial 28 finished with value: 0.9373000000000001 and parameters: {'weights': 'distance', 'n_neighbors': 5, 'metric': 'euclidean'}. Best is trial 9 with value: 0.95045.\n",
      "[I 2024-05-12 22:55:05,331] Trial 29 finished with value: 0.95045 and parameters: {'weights': 'distance', 'n_neighbors': 5, 'metric': 'manhattan'}. Best is trial 9 with value: 0.95045.\n",
      "[I 2024-05-12 22:55:05,604] Trial 30 finished with value: 0.9379 and parameters: {'weights': 'distance', 'n_neighbors': 6, 'metric': 'euclidean'}. Best is trial 9 with value: 0.95045.\n",
      "[I 2024-05-12 22:55:06,327] Trial 31 finished with value: 0.95045 and parameters: {'weights': 'distance', 'n_neighbors': 5, 'metric': 'manhattan'}. Best is trial 9 with value: 0.95045.\n",
      "[I 2024-05-12 22:55:07,049] Trial 32 finished with value: 0.95045 and parameters: {'weights': 'distance', 'n_neighbors': 5, 'metric': 'manhattan'}. Best is trial 9 with value: 0.95045.\n",
      "[I 2024-05-12 22:55:07,792] Trial 33 finished with value: 0.95045 and parameters: {'weights': 'distance', 'n_neighbors': 5, 'metric': 'manhattan'}. Best is trial 9 with value: 0.95045.\n",
      "[I 2024-05-12 22:55:08,541] Trial 34 finished with value: 0.9502 and parameters: {'weights': 'distance', 'n_neighbors': 6, 'metric': 'manhattan'}. Best is trial 9 with value: 0.95045.\n",
      "[I 2024-05-12 22:55:09,284] Trial 35 finished with value: 0.9502 and parameters: {'weights': 'distance', 'n_neighbors': 6, 'metric': 'manhattan'}. Best is trial 9 with value: 0.95045.\n",
      "[I 2024-05-12 22:55:09,805] Trial 36 finished with value: 0.9071000000000001 and parameters: {'weights': 'uniform', 'n_neighbors': 6, 'metric': 'minkowski'}. Best is trial 9 with value: 0.95045.\n",
      "[I 2024-05-12 22:55:10,534] Trial 37 finished with value: 0.95045 and parameters: {'weights': 'distance', 'n_neighbors': 5, 'metric': 'manhattan'}. Best is trial 9 with value: 0.95045.\n",
      "[I 2024-05-12 22:55:11,062] Trial 38 finished with value: 0.9071000000000001 and parameters: {'weights': 'uniform', 'n_neighbors': 6, 'metric': 'minkowski'}. Best is trial 9 with value: 0.95045.\n",
      "[I 2024-05-12 22:55:12,077] Trial 39 finished with value: 0.9110999999999999 and parameters: {'weights': 'uniform', 'n_neighbors': 10, 'metric': 'manhattan'}. Best is trial 9 with value: 0.95045.\n",
      "[I 2024-05-12 22:55:12,371] Trial 40 finished with value: 0.9341000000000002 and parameters: {'weights': 'distance', 'n_neighbors': 9, 'metric': 'euclidean'}. Best is trial 9 with value: 0.95045.\n",
      "[I 2024-05-12 22:55:13,100] Trial 41 finished with value: 0.95045 and parameters: {'weights': 'distance', 'n_neighbors': 5, 'metric': 'manhattan'}. Best is trial 9 with value: 0.95045.\n",
      "[I 2024-05-12 22:55:13,881] Trial 42 finished with value: 0.95045 and parameters: {'weights': 'distance', 'n_neighbors': 5, 'metric': 'manhattan'}. Best is trial 9 with value: 0.95045.\n",
      "[I 2024-05-12 22:55:14,616] Trial 43 finished with value: 0.95045 and parameters: {'weights': 'distance', 'n_neighbors': 5, 'metric': 'manhattan'}. Best is trial 9 with value: 0.95045.\n",
      "[I 2024-05-12 22:55:15,345] Trial 44 finished with value: 0.95045 and parameters: {'weights': 'distance', 'n_neighbors': 5, 'metric': 'manhattan'}. Best is trial 9 with value: 0.95045.\n",
      "[I 2024-05-12 22:55:15,619] Trial 45 finished with value: 0.9379 and parameters: {'weights': 'distance', 'n_neighbors': 6, 'metric': 'minkowski'}. Best is trial 9 with value: 0.95045.\n",
      "[I 2024-05-12 22:55:16,603] Trial 46 finished with value: 0.9295500000000001 and parameters: {'weights': 'uniform', 'n_neighbors': 5, 'metric': 'manhattan'}. Best is trial 9 with value: 0.95045.\n",
      "[I 2024-05-12 22:55:17,348] Trial 47 finished with value: 0.9502 and parameters: {'weights': 'distance', 'n_neighbors': 6, 'metric': 'manhattan'}. Best is trial 9 with value: 0.95045.\n",
      "[I 2024-05-12 22:55:18,099] Trial 48 finished with value: 0.95045 and parameters: {'weights': 'distance', 'n_neighbors': 5, 'metric': 'manhattan'}. Best is trial 9 with value: 0.95045.\n",
      "[I 2024-05-12 22:55:18,450] Trial 49 finished with value: 0.9379 and parameters: {'weights': 'distance', 'n_neighbors': 6, 'metric': 'minkowski'}. Best is trial 9 with value: 0.95045.\n",
      "[I 2024-05-12 22:55:19,367] Trial 50 finished with value: 0.94825 and parameters: {'weights': 'distance', 'n_neighbors': 7, 'metric': 'manhattan'}. Best is trial 9 with value: 0.95045.\n",
      "[I 2024-05-12 22:55:20,225] Trial 51 finished with value: 0.95045 and parameters: {'weights': 'distance', 'n_neighbors': 5, 'metric': 'manhattan'}. Best is trial 9 with value: 0.95045.\n",
      "[I 2024-05-12 22:55:21,093] Trial 52 finished with value: 0.95045 and parameters: {'weights': 'distance', 'n_neighbors': 5, 'metric': 'manhattan'}. Best is trial 9 with value: 0.95045.\n",
      "[I 2024-05-12 22:55:21,906] Trial 53 finished with value: 0.95045 and parameters: {'weights': 'distance', 'n_neighbors': 5, 'metric': 'manhattan'}. Best is trial 9 with value: 0.95045.\n",
      "[I 2024-05-12 22:55:22,649] Trial 54 finished with value: 0.95045 and parameters: {'weights': 'distance', 'n_neighbors': 5, 'metric': 'manhattan'}. Best is trial 9 with value: 0.95045.\n",
      "[I 2024-05-12 22:55:23,398] Trial 55 finished with value: 0.95045 and parameters: {'weights': 'distance', 'n_neighbors': 5, 'metric': 'manhattan'}. Best is trial 9 with value: 0.95045.\n",
      "[I 2024-05-12 22:55:23,932] Trial 56 finished with value: 0.9071000000000001 and parameters: {'weights': 'uniform', 'n_neighbors': 6, 'metric': 'euclidean'}. Best is trial 9 with value: 0.95045.\n",
      "[I 2024-05-12 22:55:24,694] Trial 57 finished with value: 0.94765 and parameters: {'weights': 'distance', 'n_neighbors': 8, 'metric': 'manhattan'}. Best is trial 9 with value: 0.95045.\n",
      "[I 2024-05-12 22:55:25,424] Trial 58 finished with value: 0.95045 and parameters: {'weights': 'distance', 'n_neighbors': 5, 'metric': 'manhattan'}. Best is trial 9 with value: 0.95045.\n",
      "[I 2024-05-12 22:55:26,158] Trial 59 finished with value: 0.95045 and parameters: {'weights': 'distance', 'n_neighbors': 5, 'metric': 'manhattan'}. Best is trial 9 with value: 0.95045.\n",
      "[I 2024-05-12 22:55:26,885] Trial 60 finished with value: 0.9502 and parameters: {'weights': 'distance', 'n_neighbors': 6, 'metric': 'manhattan'}. Best is trial 9 with value: 0.95045.\n",
      "[I 2024-05-12 22:55:27,627] Trial 61 finished with value: 0.95045 and parameters: {'weights': 'distance', 'n_neighbors': 5, 'metric': 'manhattan'}. Best is trial 9 with value: 0.95045.\n",
      "[I 2024-05-12 22:55:28,364] Trial 62 finished with value: 0.95045 and parameters: {'weights': 'distance', 'n_neighbors': 5, 'metric': 'manhattan'}. Best is trial 9 with value: 0.95045.\n",
      "[I 2024-05-12 22:55:29,104] Trial 63 finished with value: 0.95045 and parameters: {'weights': 'distance', 'n_neighbors': 5, 'metric': 'manhattan'}. Best is trial 9 with value: 0.95045.\n",
      "[I 2024-05-12 22:55:29,893] Trial 64 finished with value: 0.95045 and parameters: {'weights': 'distance', 'n_neighbors': 5, 'metric': 'manhattan'}. Best is trial 9 with value: 0.95045.\n",
      "[I 2024-05-12 22:55:30,659] Trial 65 finished with value: 0.95045 and parameters: {'weights': 'distance', 'n_neighbors': 5, 'metric': 'manhattan'}. Best is trial 9 with value: 0.95045.\n",
      "[I 2024-05-12 22:55:30,932] Trial 66 finished with value: 0.9373000000000001 and parameters: {'weights': 'distance', 'n_neighbors': 5, 'metric': 'euclidean'}. Best is trial 9 with value: 0.95045.\n",
      "[I 2024-05-12 22:55:31,692] Trial 67 finished with value: 0.9502 and parameters: {'weights': 'distance', 'n_neighbors': 6, 'metric': 'manhattan'}. Best is trial 9 with value: 0.95045.\n",
      "[I 2024-05-12 22:55:31,967] Trial 68 finished with value: 0.9373000000000001 and parameters: {'weights': 'distance', 'n_neighbors': 5, 'metric': 'minkowski'}. Best is trial 9 with value: 0.95045.\n",
      "[I 2024-05-12 22:55:32,965] Trial 69 finished with value: 0.92485 and parameters: {'weights': 'uniform', 'n_neighbors': 6, 'metric': 'manhattan'}. Best is trial 9 with value: 0.95045.\n",
      "[I 2024-05-12 22:55:33,706] Trial 70 finished with value: 0.95045 and parameters: {'weights': 'distance', 'n_neighbors': 5, 'metric': 'manhattan'}. Best is trial 9 with value: 0.95045.\n",
      "[I 2024-05-12 22:55:34,435] Trial 71 finished with value: 0.95045 and parameters: {'weights': 'distance', 'n_neighbors': 5, 'metric': 'manhattan'}. Best is trial 9 with value: 0.95045.\n",
      "[I 2024-05-12 22:55:35,176] Trial 72 finished with value: 0.95045 and parameters: {'weights': 'distance', 'n_neighbors': 5, 'metric': 'manhattan'}. Best is trial 9 with value: 0.95045.\n",
      "[I 2024-05-12 22:55:35,925] Trial 73 finished with value: 0.95045 and parameters: {'weights': 'distance', 'n_neighbors': 5, 'metric': 'manhattan'}. Best is trial 9 with value: 0.95045.\n",
      "[I 2024-05-12 22:55:36,668] Trial 74 finished with value: 0.95045 and parameters: {'weights': 'distance', 'n_neighbors': 5, 'metric': 'manhattan'}. Best is trial 9 with value: 0.95045.\n",
      "[I 2024-05-12 22:55:37,445] Trial 75 finished with value: 0.94765 and parameters: {'weights': 'distance', 'n_neighbors': 9, 'metric': 'manhattan'}. Best is trial 9 with value: 0.95045.\n",
      "[I 2024-05-12 22:55:38,192] Trial 76 finished with value: 0.95045 and parameters: {'weights': 'distance', 'n_neighbors': 5, 'metric': 'manhattan'}. Best is trial 9 with value: 0.95045.\n",
      "[I 2024-05-12 22:55:38,490] Trial 77 finished with value: 0.9342 and parameters: {'weights': 'distance', 'n_neighbors': 10, 'metric': 'euclidean'}. Best is trial 9 with value: 0.95045.\n",
      "[I 2024-05-12 22:55:39,224] Trial 78 finished with value: 0.9502 and parameters: {'weights': 'distance', 'n_neighbors': 6, 'metric': 'manhattan'}. Best is trial 9 with value: 0.95045.\n",
      "[I 2024-05-12 22:55:40,216] Trial 79 finished with value: 0.9295500000000001 and parameters: {'weights': 'uniform', 'n_neighbors': 5, 'metric': 'manhattan'}. Best is trial 9 with value: 0.95045.\n",
      "[I 2024-05-12 22:55:40,501] Trial 80 finished with value: 0.9359999999999999 and parameters: {'weights': 'distance', 'n_neighbors': 8, 'metric': 'minkowski'}. Best is trial 9 with value: 0.95045.\n",
      "[I 2024-05-12 22:55:41,257] Trial 81 finished with value: 0.95045 and parameters: {'weights': 'distance', 'n_neighbors': 5, 'metric': 'manhattan'}. Best is trial 9 with value: 0.95045.\n",
      "[I 2024-05-12 22:55:41,999] Trial 82 finished with value: 0.95045 and parameters: {'weights': 'distance', 'n_neighbors': 5, 'metric': 'manhattan'}. Best is trial 9 with value: 0.95045.\n",
      "[I 2024-05-12 22:55:42,747] Trial 83 finished with value: 0.95045 and parameters: {'weights': 'distance', 'n_neighbors': 5, 'metric': 'manhattan'}. Best is trial 9 with value: 0.95045.\n",
      "[I 2024-05-12 22:55:43,512] Trial 84 finished with value: 0.95045 and parameters: {'weights': 'distance', 'n_neighbors': 5, 'metric': 'manhattan'}. Best is trial 9 with value: 0.95045.\n",
      "[I 2024-05-12 22:55:44,266] Trial 85 finished with value: 0.95045 and parameters: {'weights': 'distance', 'n_neighbors': 5, 'metric': 'manhattan'}. Best is trial 9 with value: 0.95045.\n",
      "[I 2024-05-12 22:55:45,025] Trial 86 finished with value: 0.95045 and parameters: {'weights': 'distance', 'n_neighbors': 5, 'metric': 'manhattan'}. Best is trial 9 with value: 0.95045.\n",
      "[I 2024-05-12 22:55:45,846] Trial 87 finished with value: 0.9502 and parameters: {'weights': 'distance', 'n_neighbors': 6, 'metric': 'manhattan'}. Best is trial 9 with value: 0.95045.\n",
      "[I 2024-05-12 22:55:46,617] Trial 88 finished with value: 0.95045 and parameters: {'weights': 'distance', 'n_neighbors': 5, 'metric': 'manhattan'}. Best is trial 9 with value: 0.95045.\n",
      "[I 2024-05-12 22:55:47,386] Trial 89 finished with value: 0.95045 and parameters: {'weights': 'distance', 'n_neighbors': 5, 'metric': 'manhattan'}. Best is trial 9 with value: 0.95045.\n",
      "[I 2024-05-12 22:55:48,647] Trial 90 finished with value: 0.9295500000000001 and parameters: {'weights': 'uniform', 'n_neighbors': 5, 'metric': 'manhattan'}. Best is trial 9 with value: 0.95045.\n",
      "[I 2024-05-12 22:55:49,549] Trial 91 finished with value: 0.95045 and parameters: {'weights': 'distance', 'n_neighbors': 5, 'metric': 'manhattan'}. Best is trial 9 with value: 0.95045.\n",
      "[I 2024-05-12 22:55:50,460] Trial 92 finished with value: 0.95045 and parameters: {'weights': 'distance', 'n_neighbors': 5, 'metric': 'manhattan'}. Best is trial 9 with value: 0.95045.\n",
      "[I 2024-05-12 22:55:51,369] Trial 93 finished with value: 0.95045 and parameters: {'weights': 'distance', 'n_neighbors': 5, 'metric': 'manhattan'}. Best is trial 9 with value: 0.95045.\n",
      "[I 2024-05-12 22:55:52,228] Trial 94 finished with value: 0.95045 and parameters: {'weights': 'distance', 'n_neighbors': 5, 'metric': 'manhattan'}. Best is trial 9 with value: 0.95045.\n",
      "[I 2024-05-12 22:55:52,523] Trial 95 finished with value: 0.9379 and parameters: {'weights': 'distance', 'n_neighbors': 6, 'metric': 'euclidean'}. Best is trial 9 with value: 0.95045.\n",
      "[I 2024-05-12 22:55:53,300] Trial 96 finished with value: 0.95045 and parameters: {'weights': 'distance', 'n_neighbors': 5, 'metric': 'manhattan'}. Best is trial 9 with value: 0.95045.\n",
      "[I 2024-05-12 22:55:53,582] Trial 97 finished with value: 0.9373000000000001 and parameters: {'weights': 'distance', 'n_neighbors': 5, 'metric': 'minkowski'}. Best is trial 9 with value: 0.95045.\n",
      "[I 2024-05-12 22:55:54,346] Trial 98 finished with value: 0.95045 and parameters: {'weights': 'distance', 'n_neighbors': 5, 'metric': 'manhattan'}. Best is trial 9 with value: 0.95045.\n",
      "[I 2024-05-12 22:55:55,135] Trial 99 finished with value: 0.9502 and parameters: {'weights': 'distance', 'n_neighbors': 6, 'metric': 'manhattan'}. Best is trial 9 with value: 0.95045.\n"
     ]
    },
    {
     "name": "stdout",
     "output_type": "stream",
     "text": [
      "Лучшие гиперпараметры для KNN: {'weights': 'distance', 'n_neighbors': 5, 'metric': 'manhattan'}\n"
     ]
    }
   ],
   "source": [
    "def objective(trial):\n",
    "    params = {\n",
    "        'weights': trial.suggest_categorical('weights', ['uniform', 'distance']),\n",
    "        'n_neighbors': trial.suggest_int('n_neighbors', 5, 10),\n",
    "        'metric': trial.suggest_categorical('metric', ['minkowski','euclidean','manhattan'])\n",
    "    }\n",
    "    \n",
    "    knn = KNeighborsClassifier(**params)\n",
    "    return cross_val_score(knn, X_train, y_train).mean()\n",
    "\n",
    "start_knn_op = time.time()\n",
    "study_knn1 = optuna.create_study(direction='maximize')\n",
    "study_knn1.optimize(objective, n_trials=100)\n",
    "end_knn_op = time.time()\n",
    "\n",
    "knn_best_params1 = study_knn1.best_params\n",
    "knn_best_value1 = study_knn1.best_value\n",
    "print(\"Лучшие гиперпараметры для KNN:\", knn_best_params1)"
   ]
  },
  {
   "cell_type": "markdown",
   "id": "de865c28",
   "metadata": {},
   "source": [
    "Проведем кросс-валидацию только для DecisionTree, поскольку для KNN такой набор уже встречался ранее:"
   ]
  },
  {
   "cell_type": "code",
   "execution_count": 71,
   "id": "a545260b",
   "metadata": {},
   "outputs": [
    {
     "data": {
      "text/plain": [
       "0.8742000000000001"
      ]
     },
     "execution_count": 71,
     "metadata": {},
     "output_type": "execute_result"
    }
   ],
   "source": [
    "cv7 = cross_val_score(DecisionTreeClassifier(criterion='gini', max_depth=8, max_features='log2', min_samples_split=4, min_samples_leaf=1), \n",
    "                             X_test,            \n",
    "                             y_test,    \n",
    "                             cv = 5,        \n",
    "                             scoring = 'accuracy', \n",
    "                             n_jobs=-1).mean() \n",
    "cv7"
   ]
  },
  {
   "cell_type": "markdown",
   "id": "49c5bfe6",
   "metadata": {},
   "source": [
    "Еще одна библиотека, которую можно использовать для оптимизации, - hyperopt. Работает она с использованием байесовской оптимизации. Сам метод представляет собой моделирование функции оценки производительности и выбор следующего набора гиперпараметров на основе вероятностой модели. Гибкий подход данной библиотеки делает ее полезной для решения сложных задач."
   ]
  },
  {
   "cell_type": "code",
   "execution_count": 72,
   "id": "737bb024",
   "metadata": {},
   "outputs": [
    {
     "name": "stdout",
     "output_type": "stream",
     "text": [
      "Result:                                                \n",
      "0.8376999999999999                                     \n",
      "{'criterion': 'entropy', 'max_depth': 6, 'max_features': 'log2', 'min_samples_leaf': 1, 'min_samples_split': 4}\n",
      "Result:                                                                           \n",
      "0.8611000000000001                                                                \n",
      "{'criterion': 'entropy', 'max_depth': 7, 'max_features': 'log2', 'min_samples_leaf': 2, 'min_samples_split': 3}\n",
      "Result:                                                                           \n",
      "0.8686499999999999                                                                 \n",
      "{'criterion': 'entropy', 'max_depth': 7, 'max_features': 'log2', 'min_samples_leaf': 4, 'min_samples_split': 2}\n",
      "Result:                                                                            \n",
      "0.8750500000000001                                                                 \n",
      "{'criterion': 'gini', 'max_depth': 7, 'max_features': 'log2', 'min_samples_leaf': 3, 'min_samples_split': 2}\n",
      "Result:                                                                            \n",
      "0.87525                                                                            \n",
      "{'criterion': 'gini', 'max_depth': 7, 'max_features': 'log2', 'min_samples_leaf': 3, 'min_samples_split': 2}\n",
      "Result:                                                                            \n",
      "0.87675                                                                 \n",
      "{'criterion': 'gini', 'max_depth': 7, 'max_features': 'log2', 'min_samples_leaf': 3, 'min_samples_split': 2}\n",
      "Result:                                                                 \n",
      "0.8844                                                                  \n",
      "{'criterion': 'gini', 'max_depth': 7, 'max_features': 'log2', 'min_samples_leaf': 3, 'min_samples_split': 2}\n",
      "Result:                                                                 \n",
      "0.8869999999999999                                                     \n",
      "{'criterion': 'gini', 'max_depth': 7, 'max_features': 'log2', 'min_samples_leaf': 1, 'min_samples_split': 2}\n",
      "100%|██████████| 100/100 [00:05<00:00, 19.14trial/s, best loss: -0.8869999999999999]\n"
     ]
    }
   ],
   "source": [
    "param1_h = {\n",
    "    'max_depth': hp.choice('max_depth', range(3, 8)),\n",
    "    'max_features': hp.choice('max_features', ['sqrt', 'log2']),\n",
    "    'min_samples_split': hp.choice('min_samples_split', range(2, 5)),\n",
    "    'min_samples_leaf': hp.choice('min_samples_leaf', range(1, 5)),\n",
    "    'criterion': hp.choice('criterion', ['gini', 'entropy'])\n",
    "}\n",
    "\n",
    "def objective(params):\n",
    "    dt = DecisionTreeClassifier(**params)\n",
    "    return cross_val_score(dt, X_train, y_train).mean()\n",
    "\n",
    "hyperdt1 = 0\n",
    "def hyperport_optimize(params):\n",
    "    global hyperdt1\n",
    "    accur = objective(params)\n",
    "    if accur > hyperdt1:\n",
    "      hyperdt1 = accur\n",
    "      print('Result:', hyperdt1, params)\n",
    "    return {'loss': -accur, 'status': STATUS_OK}\n",
    "\n",
    "start_dt_h = time.time()\n",
    "trials1 = Trials()\n",
    "hyper_dt1 = fmin(hyperport_optimize, param1_h, algo=tpe.suggest, max_evals=100, trials=trials1)\n",
    "end_dt_h = time.time()\n"
   ]
  },
  {
   "cell_type": "code",
   "execution_count": 73,
   "id": "10a4d2e5",
   "metadata": {},
   "outputs": [
    {
     "name": "stdout",
     "output_type": "stream",
     "text": [
      "Result:                                                \n",
      "0.9359999999999999                                     \n",
      "{'metric': 'minkowski', 'n_neighbors': 8, 'weights': 'distance'}\n",
      "Result:                                                                           \n",
      "0.9379                                                                            \n",
      "{'metric': 'euclidean', 'n_neighbors': 6, 'weights': 'distance'}                  \n",
      "Result:                                                                           \n",
      "0.9502                                                                \n",
      "{'metric': 'manhattan', 'n_neighbors': 6, 'weights': 'distance'}      \n",
      "Result:                                                               \n",
      "0.95045                                                               \n",
      "{'metric': 'manhattan', 'n_neighbors': 5, 'weights': 'distance'}      \n",
      "100%|██████████| 100/100 [01:05<00:00,  1.54trial/s, best loss: -0.95045]\n"
     ]
    }
   ],
   "source": [
    "param2_h = {\n",
    "    'n_neighbors': hp.choice('n_neighbors', range(5, 10)),\n",
    "    'metric': hp.choice('metric', ['minkowski','euclidean','manhattan']),\n",
    "    'weights': hp.choice('weights', ['uniform', 'distance'])\n",
    "}\n",
    "\n",
    "def objective(params):\n",
    "    knn = KNeighborsClassifier(**params)\n",
    "    return cross_val_score(knn, X_train, y_train).mean()\n",
    "\n",
    "hyperdt2 = 0\n",
    "def hyperport_optimize(params):\n",
    "    global hyperdt2\n",
    "    accur = objective(params)\n",
    "    if accur > hyperdt2:\n",
    "      hyperdt2 = accur\n",
    "      print('Result:', hyperdt2, params)\n",
    "    return {'loss': -accur, 'status': STATUS_OK}\n",
    "\n",
    "start_knn_h = time.time()\n",
    "trials2 = Trials()\n",
    "hyper_knn2 = fmin(hyperport_optimize, param2_h, algo=tpe.suggest, max_evals=100, trials=trials2)\n",
    "end_knn_h = time.time()"
   ]
  },
  {
   "cell_type": "markdown",
   "id": "0586fd69",
   "metadata": {},
   "source": [
    "Также проверим кросс-валидацию только для Desicion Tree."
   ]
  },
  {
   "cell_type": "code",
   "execution_count": 75,
   "id": "6189971d",
   "metadata": {},
   "outputs": [
    {
     "data": {
      "text/plain": [
       "0.8634000000000001"
      ]
     },
     "execution_count": 75,
     "metadata": {},
     "output_type": "execute_result"
    }
   ],
   "source": [
    "cv8 = cross_val_score(DecisionTreeClassifier(criterion='entropy', max_depth=7, max_features='sqrt', min_samples_split=2, min_samples_leaf=3), \n",
    "                             X_test,            \n",
    "                             y_test,    \n",
    "                             cv = 5,        \n",
    "                             scoring = 'accuracy', \n",
    "                             n_jobs=-1).mean() \n",
    "cv8"
   ]
  },
  {
   "cell_type": "markdown",
   "id": "f52cde79",
   "metadata": {},
   "source": [
    "Также посмотрим кросс-валидацию с помощью других метрик (в нашем случае precision, recall)."
   ]
  },
  {
   "cell_type": "code",
   "execution_count": 116,
   "id": "799d86ae",
   "metadata": {},
   "outputs": [],
   "source": [
    "cv1p = cross_val_score(DecisionTreeClassifier(criterion='gini', max_depth=8, max_features='sqrt', min_samples_split=3, min_samples_leaf=1), \n",
    "                             X_test,            \n",
    "                             y_test,    \n",
    "                             cv = 5,        \n",
    "                             scoring = 'precision', \n",
    "                             n_jobs=-1).mean() \n",
    "\n",
    "cv2p = cross_val_score(KNeighborsClassifier(n_neighbors=5, weights='distance', metric='manhattan'),\n",
    "                             X_test,            \n",
    "                             y_test,    \n",
    "                             cv = 5,        \n",
    "                             scoring = 'precision', \n",
    "                             n_jobs=-1).mean() \n",
    "\n",
    "cv3p = cross_val_score(DecisionTreeClassifier(criterion='entropy', max_depth=8, max_features='sqrt', min_samples_split=2, min_samples_leaf=4), \n",
    "                             X_test,            \n",
    "                             y_test,    \n",
    "                             cv = 5,        \n",
    "                             scoring = 'precision', \n",
    "                             n_jobs=-1).mean() \n",
    "\n",
    "cv4p = cross_val_score(KNeighborsClassifier(n_neighbors=9, weights='distance', metric='manhattan'),\n",
    "                             X_test,            \n",
    "                             y_test,    \n",
    "                             cv = 5,        \n",
    "                             scoring = 'precision', \n",
    "                             n_jobs=-1).mean() \n",
    "\n",
    "cv5p = cross_val_score(DecisionTreeClassifier(criterion='gini', max_depth=8, max_features='log2', min_samples_split=3, min_samples_leaf=1), \n",
    "                             X_test,            \n",
    "                             y_test,    \n",
    "                             cv = 5,        \n",
    "                             scoring = 'precision', \n",
    "                             n_jobs=-1).mean() \n",
    "\n",
    "cv6p = cross_val_score(KNeighborsClassifier(n_neighbors=5, weights='distance', metric='manhattan'),\n",
    "                             X_test,            \n",
    "                             y_test,    \n",
    "                             cv = 5,        \n",
    "                             scoring = 'precision', \n",
    "                             n_jobs=-1).mean() \n",
    "\n",
    "cv7p = cross_val_score(DecisionTreeClassifier(criterion='gini', max_depth=8, max_features='log2', min_samples_split=4, min_samples_leaf=1), \n",
    "                             X_test,            \n",
    "                             y_test,    \n",
    "                             cv = 5,        \n",
    "                             scoring = 'precision', \n",
    "                             n_jobs=-1).mean() \n",
    "\n",
    "cv8p = cross_val_score(DecisionTreeClassifier(criterion='entropy', max_depth=7, max_features='sqrt', min_samples_split=2, min_samples_leaf=3), \n",
    "                             X_test,            \n",
    "                             y_test,    \n",
    "                             cv = 5,        \n",
    "                             scoring = 'precision', \n",
    "                             n_jobs=-1).mean() "
   ]
  },
  {
   "cell_type": "code",
   "execution_count": 117,
   "id": "b9057147",
   "metadata": {},
   "outputs": [],
   "source": [
    "cv1r = cross_val_score(DecisionTreeClassifier(criterion='gini', max_depth=8, max_features='sqrt', min_samples_split=3, min_samples_leaf=1), \n",
    "                             X_test,            \n",
    "                             y_test,    \n",
    "                             cv = 5,        \n",
    "                             scoring = 'recall', \n",
    "                             n_jobs=-1).mean() \n",
    "\n",
    "cv2r = cross_val_score(KNeighborsClassifier(n_neighbors=5, weights='distance', metric='manhattan'),\n",
    "                             X_test,            \n",
    "                             y_test,    \n",
    "                             cv = 5,        \n",
    "                             scoring = 'recall', \n",
    "                             n_jobs=-1).mean() \n",
    "\n",
    "cv3r = cross_val_score(DecisionTreeClassifier(criterion='entropy', max_depth=8, max_features='sqrt', min_samples_split=2, min_samples_leaf=4), \n",
    "                             X_test,            \n",
    "                             y_test,    \n",
    "                             cv = 5,        \n",
    "                             scoring = 'recall', \n",
    "                             n_jobs=-1).mean() \n",
    "\n",
    "cv4r = cross_val_score(KNeighborsClassifier(n_neighbors=9, weights='distance', metric='manhattan'),\n",
    "                             X_test,            \n",
    "                             y_test,    \n",
    "                             cv = 5,        \n",
    "                             scoring = 'recall', \n",
    "                             n_jobs=-1).mean() \n",
    "\n",
    "cv5r = cross_val_score(DecisionTreeClassifier(criterion='gini', max_depth=8, max_features='log2', min_samples_split=3, min_samples_leaf=1), \n",
    "                             X_test,            \n",
    "                             y_test,    \n",
    "                             cv = 5,        \n",
    "                             scoring = 'recall', \n",
    "                             n_jobs=-1).mean() \n",
    "\n",
    "cv6r = cross_val_score(KNeighborsClassifier(n_neighbors=5, weights='distance', metric='manhattan'),\n",
    "                             X_test,            \n",
    "                             y_test,    \n",
    "                             cv = 5,        \n",
    "                             scoring = 'recall', \n",
    "                             n_jobs=-1).mean() \n",
    "\n",
    "cv7r = cross_val_score(DecisionTreeClassifier(criterion='gini', max_depth=8, max_features='log2', min_samples_split=4, min_samples_leaf=1), \n",
    "                             X_test,            \n",
    "                             y_test,    \n",
    "                             cv = 5,        \n",
    "                             scoring = 'recall', \n",
    "                             n_jobs=-1).mean() \n",
    "\n",
    "cv8r = cross_val_score(DecisionTreeClassifier(criterion='entropy', max_depth=7, max_features='sqrt', min_samples_split=2, min_samples_leaf=3), \n",
    "                             X_test,            \n",
    "                             y_test,    \n",
    "                             cv = 5,        \n",
    "                             scoring = 'recall', \n",
    "                             n_jobs=-1).mean() "
   ]
  },
  {
   "cell_type": "markdown",
   "id": "684cc67e",
   "metadata": {},
   "source": [
    "Соберем все полученные значения в две таблицы."
   ]
  },
  {
   "cell_type": "code",
   "execution_count": 125,
   "id": "f2446f8e",
   "metadata": {},
   "outputs": [],
   "source": [
    "tree = pd.DataFrame(columns=['Name', 'Criterion', 'Max_depth', 'Max_features', 'Min_samples_split', \n",
    "                             'Min_samples_leaf', 'Best score', 'Cross val score', 'Time', 'Precision', 'Recall'])\n",
    "neighbors = pd.DataFrame(columns=['Name', 'Metric', 'N_neighbors', 'Weights', 'Best score', 'Cross val score', 'Time', 'Precision', 'Recall'])"
   ]
  },
  {
   "cell_type": "code",
   "execution_count": 126,
   "id": "cc390d80",
   "metadata": {},
   "outputs": [],
   "source": [
    "new_row1 = {'Name': 'GridSearch', 'Criterion': dt_best_params['criterion'], 'Max_depth': dt_best_params['max_depth'], \n",
    "                    'Max_features': dt_best_params['max_features'], 'Min_samples_split': dt_best_params['min_samples_split'],\n",
    "                    'Min_samples_leaf': dt_best_params['min_samples_leaf'], 'Best score': dt_best_score,\n",
    "                    'Cross val score': cv1, 'Time': end_dt_gs-start_dt_gs, 'Precision': cv1p, 'Recall': cv1r}\n",
    "\n",
    "new_row2 = {'Name': 'RandomizedSearch', 'Criterion': dt_best_params2['criterion'], 'Max_depth': dt_best_params2['max_depth'], \n",
    "                    'Max_features': dt_best_params2['max_features'], 'Min_samples_split': dt_best_params2['min_samples_split'],\n",
    "                    'Min_samples_leaf': dt_best_params2['min_samples_leaf'], 'Best score': dt_best_score2,\n",
    "                    'Cross val score': cv3, 'Time': end_dt_rs-start_dt_rs, 'Precision': cv3p, 'Recall': cv3r}\n",
    "\n",
    "new_row3 = {'Name': 'BayesSearch', 'Criterion': dt_best_params3['criterion'], 'Max_depth': dt_best_params3['max_depth'], \n",
    "                    'Max_features': dt_best_params3['max_features'], 'Min_samples_split': dt_best_params3['min_samples_split'],\n",
    "                    'Min_samples_leaf': dt_best_params3['min_samples_leaf'], 'Best score': dt_best_score3,\n",
    "                    'Cross val score': cv5, 'Time': end_dt_bs-start_dt_bs, 'Precision': cv5p, 'Recall': cv5r}\n",
    "\n",
    "new_row4 = {'Name': 'Optuna', 'Criterion': dt_best_params1['criterion'], 'Max_depth': dt_best_params1['max_depth'], \n",
    "                    'Max_features': dt_best_params1['max_features'], 'Min_samples_split': dt_best_params1['min_samples_split'],\n",
    "                    'Min_samples_leaf': dt_best_params1['min_samples_leaf'], 'Best score': dt_best_value1,\n",
    "                    'Cross val score': cv7, 'Time': end_dt_op-start_dt_op, 'Precision': cv7p, 'Recall': cv7r}\n",
    "\n",
    "new_row5 = {'Name': 'Hyperopt', 'Criterion': param1['criterion'][hyper_dt1['criterion']], 'Max_depth': param1['max_depth'][hyper_dt1['max_depth']], \n",
    "                    'Max_features': param1['max_features'][hyper_dt1['max_features']], 'Min_samples_split': param1['min_samples_split'][hyper_dt1['min_samples_split']],\n",
    "                    'Min_samples_leaf': param1['min_samples_leaf'][hyper_dt1['min_samples_leaf']], 'Best score': hyperdt1,\n",
    "                    'Cross val score': cv8, 'Time': end_dt_h-start_dt_h, 'Precision': cv8p, 'Recall': cv8r}"
   ]
  },
  {
   "cell_type": "code",
   "execution_count": 127,
   "id": "6f4c3ca8",
   "metadata": {},
   "outputs": [],
   "source": [
    "new_row6 = {'Name': 'GridSearch', 'Metric': knn_best_params['metric'], 'N_neighbors': knn_best_params['n_neighbors'],\n",
    "             'Weights': knn_best_params['weights'], 'Best score': knn_best_score, 'Cross val score': cv2, 'Time': end_knn_gs-start_knn_gs,\n",
    "             'Precision': cv2p, 'Recall': cv2r}\n",
    "\n",
    "new_row7 = {'Name': 'RandomizedSearch', 'Metric': knn_best_params2['metric'], 'N_neighbors': knn_best_params2['n_neighbors'],\n",
    "             'Weights': knn_best_params2['weights'], 'Best score': knn_best_score2, 'Cross val score': cv4, 'Time': end_knn_rs-start_knn_rs,\n",
    "             'Precision': cv4p, 'Recall': cv4r}\n",
    "\n",
    "new_row8 = {'Name': 'BayesSearch', 'Metric': knn_best_params3['metric'], 'N_neighbors': knn_best_params3['n_neighbors'],\n",
    "             'Weights': knn_best_params3['weights'], 'Best score': knn_best_score3, 'Cross val score': cv6, 'Time': end_knn_bs-start_knn_bs,\n",
    "             'Precision': cv6p, 'Recall': cv6r}\n",
    "\n",
    "new_row9 = {'Name': 'Optuna', 'Metric': knn_best_params1['metric'], 'N_neighbors': knn_best_params1['n_neighbors'],\n",
    "             'Weights': knn_best_params1['weights'], 'Best score': knn_best_value1, 'Cross val score': cv6, 'Time': end_knn_op-start_knn_op,\n",
    "             'Precision': cv6p, 'Recall': cv6r}\n",
    "\n",
    "new_row10 = {'Name': 'Hyperopt', 'Metric': param2['metric'][hyper_knn2['metric']], 'N_neighbors': param2['n_neighbors'][hyper_knn2['n_neighbors']],\n",
    "             'Weights': param2['weights'][hyper_knn2['weights']], 'Best score': hyperdt2, 'Cross val score': cv6, 'Time': end_knn_h-start_knn_h,\n",
    "             'Precision': cv6p, 'Recall': cv6r}"
   ]
  },
  {
   "cell_type": "code",
   "execution_count": 128,
   "id": "a9c07eae",
   "metadata": {},
   "outputs": [],
   "source": [
    "tree = pd.concat([tree, pd.DataFrame([new_row1]), pd.DataFrame([new_row2]), pd.DataFrame([new_row3]), pd.DataFrame([new_row4]),\n",
    "                  pd.DataFrame([new_row5])], ignore_index=True)\n",
    "neighbors = pd.concat([neighbors, pd.DataFrame([new_row6]), pd.DataFrame([new_row7]), pd.DataFrame([new_row8]), pd.DataFrame([new_row9]),\n",
    "                  pd.DataFrame([new_row10])], ignore_index=True)"
   ]
  },
  {
   "cell_type": "code",
   "execution_count": 131,
   "id": "f16a41b9",
   "metadata": {},
   "outputs": [],
   "source": [
    "tree = tree.style.background_gradient(cmap='Purples')\n",
    "neighbors = neighbors.style.background_gradient(cmap='Purples')"
   ]
  },
  {
   "cell_type": "code",
   "execution_count": 132,
   "id": "01173e64",
   "metadata": {},
   "outputs": [
    {
     "data": {
      "text/html": [
       "<style type=\"text/css\">\n",
       "#T_542ae_row0_col6 {\n",
       "  background-color: #491285;\n",
       "  color: #f1f1f1;\n",
       "}\n",
       "#T_542ae_row0_col7 {\n",
       "  background-color: #6b53a4;\n",
       "  color: #f1f1f1;\n",
       "}\n",
       "#T_542ae_row0_col8, #T_542ae_row2_col7, #T_542ae_row2_col9, #T_542ae_row3_col6, #T_542ae_row4_col10 {\n",
       "  background-color: #3f007d;\n",
       "  color: #f1f1f1;\n",
       "}\n",
       "#T_542ae_row0_col9 {\n",
       "  background-color: #674ba0;\n",
       "  color: #f1f1f1;\n",
       "}\n",
       "#T_542ae_row0_col10 {\n",
       "  background-color: #e3e2ef;\n",
       "  color: #000000;\n",
       "}\n",
       "#T_542ae_row1_col6 {\n",
       "  background-color: #dfdfed;\n",
       "  color: #000000;\n",
       "}\n",
       "#T_542ae_row1_col7 {\n",
       "  background-color: #5c3696;\n",
       "  color: #f1f1f1;\n",
       "}\n",
       "#T_542ae_row1_col8, #T_542ae_row1_col10, #T_542ae_row4_col6, #T_542ae_row4_col7, #T_542ae_row4_col9 {\n",
       "  background-color: #fcfbfd;\n",
       "  color: #000000;\n",
       "}\n",
       "#T_542ae_row1_col9 {\n",
       "  background-color: #a19eca;\n",
       "  color: #f1f1f1;\n",
       "}\n",
       "#T_542ae_row2_col6 {\n",
       "  background-color: #5f3c99;\n",
       "  color: #f1f1f1;\n",
       "}\n",
       "#T_542ae_row2_col8 {\n",
       "  background-color: #8885be;\n",
       "  color: #f1f1f1;\n",
       "}\n",
       "#T_542ae_row2_col10, #T_542ae_row3_col10 {\n",
       "  background-color: #7a71b4;\n",
       "  color: #f1f1f1;\n",
       "}\n",
       "#T_542ae_row3_col7 {\n",
       "  background-color: #babadb;\n",
       "  color: #000000;\n",
       "}\n",
       "#T_542ae_row3_col8 {\n",
       "  background-color: #d5d5e9;\n",
       "  color: #000000;\n",
       "}\n",
       "#T_542ae_row3_col9 {\n",
       "  background-color: #7566ae;\n",
       "  color: #f1f1f1;\n",
       "}\n",
       "#T_542ae_row4_col8 {\n",
       "  background-color: #e0dfee;\n",
       "  color: #000000;\n",
       "}\n",
       "</style>\n",
       "<table id=\"T_542ae\">\n",
       "  <thead>\n",
       "    <tr>\n",
       "      <th class=\"blank level0\" >&nbsp;</th>\n",
       "      <th id=\"T_542ae_level0_col0\" class=\"col_heading level0 col0\" >Name</th>\n",
       "      <th id=\"T_542ae_level0_col1\" class=\"col_heading level0 col1\" >Criterion</th>\n",
       "      <th id=\"T_542ae_level0_col2\" class=\"col_heading level0 col2\" >Max_depth</th>\n",
       "      <th id=\"T_542ae_level0_col3\" class=\"col_heading level0 col3\" >Max_features</th>\n",
       "      <th id=\"T_542ae_level0_col4\" class=\"col_heading level0 col4\" >Min_samples_split</th>\n",
       "      <th id=\"T_542ae_level0_col5\" class=\"col_heading level0 col5\" >Min_samples_leaf</th>\n",
       "      <th id=\"T_542ae_level0_col6\" class=\"col_heading level0 col6\" >Best score</th>\n",
       "      <th id=\"T_542ae_level0_col7\" class=\"col_heading level0 col7\" >Cross val score</th>\n",
       "      <th id=\"T_542ae_level0_col8\" class=\"col_heading level0 col8\" >Time</th>\n",
       "      <th id=\"T_542ae_level0_col9\" class=\"col_heading level0 col9\" >Precision</th>\n",
       "      <th id=\"T_542ae_level0_col10\" class=\"col_heading level0 col10\" >Recall</th>\n",
       "    </tr>\n",
       "  </thead>\n",
       "  <tbody>\n",
       "    <tr>\n",
       "      <th id=\"T_542ae_level0_row0\" class=\"row_heading level0 row0\" >0</th>\n",
       "      <td id=\"T_542ae_row0_col0\" class=\"data row0 col0\" >GridSearch</td>\n",
       "      <td id=\"T_542ae_row0_col1\" class=\"data row0 col1\" >gini</td>\n",
       "      <td id=\"T_542ae_row0_col2\" class=\"data row0 col2\" >8</td>\n",
       "      <td id=\"T_542ae_row0_col3\" class=\"data row0 col3\" >sqrt</td>\n",
       "      <td id=\"T_542ae_row0_col4\" class=\"data row0 col4\" >5</td>\n",
       "      <td id=\"T_542ae_row0_col5\" class=\"data row0 col5\" >4</td>\n",
       "      <td id=\"T_542ae_row0_col6\" class=\"data row0 col6\" >0.909550</td>\n",
       "      <td id=\"T_542ae_row0_col7\" class=\"data row0 col7\" >0.884400</td>\n",
       "      <td id=\"T_542ae_row0_col8\" class=\"data row0 col8\" >22.027476</td>\n",
       "      <td id=\"T_542ae_row0_col9\" class=\"data row0 col9\" >0.883827</td>\n",
       "      <td id=\"T_542ae_row0_col10\" class=\"data row0 col10\" >0.924942</td>\n",
       "    </tr>\n",
       "    <tr>\n",
       "      <th id=\"T_542ae_level0_row1\" class=\"row_heading level0 row1\" >1</th>\n",
       "      <td id=\"T_542ae_row1_col0\" class=\"data row1 col0\" >RandomizedSearch</td>\n",
       "      <td id=\"T_542ae_row1_col1\" class=\"data row1 col1\" >entropy</td>\n",
       "      <td id=\"T_542ae_row1_col2\" class=\"data row1 col2\" >8</td>\n",
       "      <td id=\"T_542ae_row1_col3\" class=\"data row1 col3\" >sqrt</td>\n",
       "      <td id=\"T_542ae_row1_col4\" class=\"data row1 col4\" >3</td>\n",
       "      <td id=\"T_542ae_row1_col5\" class=\"data row1 col5\" >1</td>\n",
       "      <td id=\"T_542ae_row1_col6\" class=\"data row1 col6\" >0.892350</td>\n",
       "      <td id=\"T_542ae_row1_col7\" class=\"data row1 col7\" >0.886800</td>\n",
       "      <td id=\"T_542ae_row1_col8\" class=\"data row1 col8\" >0.548794</td>\n",
       "      <td id=\"T_542ae_row1_col9\" class=\"data row1 col9\" >0.870623</td>\n",
       "      <td id=\"T_542ae_row1_col10\" class=\"data row1 col10\" >0.919219</td>\n",
       "    </tr>\n",
       "    <tr>\n",
       "      <th id=\"T_542ae_level0_row2\" class=\"row_heading level0 row2\" >2</th>\n",
       "      <td id=\"T_542ae_row2_col0\" class=\"data row2 col0\" >BayesSearch</td>\n",
       "      <td id=\"T_542ae_row2_col1\" class=\"data row2 col1\" >gini</td>\n",
       "      <td id=\"T_542ae_row2_col2\" class=\"data row2 col2\" >8</td>\n",
       "      <td id=\"T_542ae_row2_col3\" class=\"data row2 col3\" >log2</td>\n",
       "      <td id=\"T_542ae_row2_col4\" class=\"data row2 col4\" >4</td>\n",
       "      <td id=\"T_542ae_row2_col5\" class=\"data row2 col5\" >5</td>\n",
       "      <td id=\"T_542ae_row2_col6\" class=\"data row2 col6\" >0.906450</td>\n",
       "      <td id=\"T_542ae_row2_col7\" class=\"data row2 col7\" >0.891600</td>\n",
       "      <td id=\"T_542ae_row2_col8\" class=\"data row2 col8\" >13.258251</td>\n",
       "      <td id=\"T_542ae_row2_col9\" class=\"data row2 col9\" >0.894898</td>\n",
       "      <td id=\"T_542ae_row2_col10\" class=\"data row2 col10\" >0.938284</td>\n",
       "    </tr>\n",
       "    <tr>\n",
       "      <th id=\"T_542ae_level0_row3\" class=\"row_heading level0 row3\" >3</th>\n",
       "      <td id=\"T_542ae_row3_col0\" class=\"data row3 col0\" >Optuna</td>\n",
       "      <td id=\"T_542ae_row3_col1\" class=\"data row3 col1\" >gini</td>\n",
       "      <td id=\"T_542ae_row3_col2\" class=\"data row3 col2\" >8</td>\n",
       "      <td id=\"T_542ae_row3_col3\" class=\"data row3 col3\" >log2</td>\n",
       "      <td id=\"T_542ae_row3_col4\" class=\"data row3 col4\" >3</td>\n",
       "      <td id=\"T_542ae_row3_col5\" class=\"data row3 col5\" >1</td>\n",
       "      <td id=\"T_542ae_row3_col6\" class=\"data row3 col6\" >0.911050</td>\n",
       "      <td id=\"T_542ae_row3_col7\" class=\"data row3 col7\" >0.874200</td>\n",
       "      <td id=\"T_542ae_row3_col8\" class=\"data row3 col8\" >6.408312</td>\n",
       "      <td id=\"T_542ae_row3_col9\" class=\"data row3 col9\" >0.880262</td>\n",
       "      <td id=\"T_542ae_row3_col10\" class=\"data row3 col10\" >0.938297</td>\n",
       "    </tr>\n",
       "    <tr>\n",
       "      <th id=\"T_542ae_level0_row4\" class=\"row_heading level0 row4\" >4</th>\n",
       "      <td id=\"T_542ae_row4_col0\" class=\"data row4 col0\" >Hyperopt</td>\n",
       "      <td id=\"T_542ae_row4_col1\" class=\"data row4 col1\" >gini</td>\n",
       "      <td id=\"T_542ae_row4_col2\" class=\"data row4 col2\" >7</td>\n",
       "      <td id=\"T_542ae_row4_col3\" class=\"data row4 col3\" >log2</td>\n",
       "      <td id=\"T_542ae_row4_col4\" class=\"data row4 col4\" >2</td>\n",
       "      <td id=\"T_542ae_row4_col5\" class=\"data row4 col5\" >1</td>\n",
       "      <td id=\"T_542ae_row4_col6\" class=\"data row4 col6\" >0.887000</td>\n",
       "      <td id=\"T_542ae_row4_col7\" class=\"data row4 col7\" >0.863400</td>\n",
       "      <td id=\"T_542ae_row4_col8\" class=\"data row4 col8\" >5.231416</td>\n",
       "      <td id=\"T_542ae_row4_col9\" class=\"data row4 col9\" >0.847558</td>\n",
       "      <td id=\"T_542ae_row4_col10\" class=\"data row4 col10\" >0.948151</td>\n",
       "    </tr>\n",
       "  </tbody>\n",
       "</table>\n"
      ],
      "text/plain": [
       "<pandas.io.formats.style.Styler at 0x2aa04a560>"
      ]
     },
     "execution_count": 132,
     "metadata": {},
     "output_type": "execute_result"
    }
   ],
   "source": [
    "tree"
   ]
  },
  {
   "cell_type": "markdown",
   "id": "8a5d28f0",
   "metadata": {},
   "source": [
    "Можем сделать следующие выводы:\n",
    "1. Дольше всего работал метод перебора (GridSearch), но в то же время показал лучший результат на кросс-валидации.\n",
    "2. Оптимальнее всего в данном случае будет использовать байесовскую оптимизацию, поскольку результат получился один из лучших, в то же время продолжительность выполнения не такая большая.\n",
    "3. Быстрее всего работает RandomizedSearch, хотя результат кросс-валидации оказался одним из худших."
   ]
  },
  {
   "cell_type": "markdown",
   "id": "d9204107",
   "metadata": {},
   "source": [
    "Стоит отметить, что во всех случае на место criterion был подобран гиперпараметр gini, на место max_features почти везде - log2, на место max_depth почти везде - 8. В остальных гиперпараметрах нет таких ярко выраженных лидеров."
   ]
  },
  {
   "cell_type": "code",
   "execution_count": 133,
   "id": "604b104f",
   "metadata": {},
   "outputs": [
    {
     "data": {
      "text/html": [
       "<style type=\"text/css\">\n",
       "#T_d37be_row0_col4, #T_d37be_row0_col8, #T_d37be_row1_col4, #T_d37be_row1_col5, #T_d37be_row1_col6, #T_d37be_row1_col7, #T_d37be_row2_col4, #T_d37be_row2_col8, #T_d37be_row3_col4, #T_d37be_row3_col8, #T_d37be_row4_col4, #T_d37be_row4_col8 {\n",
       "  background-color: #fcfbfd;\n",
       "  color: #000000;\n",
       "}\n",
       "#T_d37be_row0_col5, #T_d37be_row0_col7, #T_d37be_row1_col8, #T_d37be_row2_col5, #T_d37be_row2_col7, #T_d37be_row3_col5, #T_d37be_row3_col6, #T_d37be_row3_col7, #T_d37be_row4_col5, #T_d37be_row4_col7 {\n",
       "  background-color: #3f007d;\n",
       "  color: #f1f1f1;\n",
       "}\n",
       "#T_d37be_row0_col6 {\n",
       "  background-color: #dfdfed;\n",
       "  color: #000000;\n",
       "}\n",
       "#T_d37be_row2_col6 {\n",
       "  background-color: #cfd0e6;\n",
       "  color: #000000;\n",
       "}\n",
       "#T_d37be_row4_col6 {\n",
       "  background-color: #4a1486;\n",
       "  color: #f1f1f1;\n",
       "}\n",
       "</style>\n",
       "<table id=\"T_d37be\">\n",
       "  <thead>\n",
       "    <tr>\n",
       "      <th class=\"blank level0\" >&nbsp;</th>\n",
       "      <th id=\"T_d37be_level0_col0\" class=\"col_heading level0 col0\" >Name</th>\n",
       "      <th id=\"T_d37be_level0_col1\" class=\"col_heading level0 col1\" >Metric</th>\n",
       "      <th id=\"T_d37be_level0_col2\" class=\"col_heading level0 col2\" >N_neighbors</th>\n",
       "      <th id=\"T_d37be_level0_col3\" class=\"col_heading level0 col3\" >Weights</th>\n",
       "      <th id=\"T_d37be_level0_col4\" class=\"col_heading level0 col4\" >Best score</th>\n",
       "      <th id=\"T_d37be_level0_col5\" class=\"col_heading level0 col5\" >Cross val score</th>\n",
       "      <th id=\"T_d37be_level0_col6\" class=\"col_heading level0 col6\" >Time</th>\n",
       "      <th id=\"T_d37be_level0_col7\" class=\"col_heading level0 col7\" >Precision</th>\n",
       "      <th id=\"T_d37be_level0_col8\" class=\"col_heading level0 col8\" >Recall</th>\n",
       "    </tr>\n",
       "  </thead>\n",
       "  <tbody>\n",
       "    <tr>\n",
       "      <th id=\"T_d37be_level0_row0\" class=\"row_heading level0 row0\" >0</th>\n",
       "      <td id=\"T_d37be_row0_col0\" class=\"data row0 col0\" >GridSearch</td>\n",
       "      <td id=\"T_d37be_row0_col1\" class=\"data row0 col1\" >manhattan</td>\n",
       "      <td id=\"T_d37be_row0_col2\" class=\"data row0 col2\" >5</td>\n",
       "      <td id=\"T_d37be_row0_col3\" class=\"data row0 col3\" >distance</td>\n",
       "      <td id=\"T_d37be_row0_col4\" class=\"data row0 col4\" >0.950450</td>\n",
       "      <td id=\"T_d37be_row0_col5\" class=\"data row0 col5\" >0.905400</td>\n",
       "      <td id=\"T_d37be_row0_col6\" class=\"data row0 col6\" >19.941564</td>\n",
       "      <td id=\"T_d37be_row0_col7\" class=\"data row0 col7\" >0.904279</td>\n",
       "      <td id=\"T_d37be_row0_col8\" class=\"data row0 col8\" >0.950382</td>\n",
       "    </tr>\n",
       "    <tr>\n",
       "      <th id=\"T_d37be_level0_row1\" class=\"row_heading level0 row1\" >1</th>\n",
       "      <td id=\"T_d37be_row1_col0\" class=\"data row1 col0\" >RandomizedSearch</td>\n",
       "      <td id=\"T_d37be_row1_col1\" class=\"data row1 col1\" >manhattan</td>\n",
       "      <td id=\"T_d37be_row1_col2\" class=\"data row1 col2\" >5</td>\n",
       "      <td id=\"T_d37be_row1_col3\" class=\"data row1 col3\" >distance</td>\n",
       "      <td id=\"T_d37be_row1_col4\" class=\"data row1 col4\" >0.950450</td>\n",
       "      <td id=\"T_d37be_row1_col5\" class=\"data row1 col5\" >0.899800</td>\n",
       "      <td id=\"T_d37be_row1_col6\" class=\"data row1 col6\" >6.014314</td>\n",
       "      <td id=\"T_d37be_row1_col7\" class=\"data row1 col7\" >0.896128</td>\n",
       "      <td id=\"T_d37be_row1_col8\" class=\"data row1 col8\" >0.951016</td>\n",
       "    </tr>\n",
       "    <tr>\n",
       "      <th id=\"T_d37be_level0_row2\" class=\"row_heading level0 row2\" >2</th>\n",
       "      <td id=\"T_d37be_row2_col0\" class=\"data row2 col0\" >BayesSearch</td>\n",
       "      <td id=\"T_d37be_row2_col1\" class=\"data row2 col1\" >manhattan</td>\n",
       "      <td id=\"T_d37be_row2_col2\" class=\"data row2 col2\" >5</td>\n",
       "      <td id=\"T_d37be_row2_col3\" class=\"data row2 col3\" >distance</td>\n",
       "      <td id=\"T_d37be_row2_col4\" class=\"data row2 col4\" >0.950450</td>\n",
       "      <td id=\"T_d37be_row2_col5\" class=\"data row2 col5\" >0.905400</td>\n",
       "      <td id=\"T_d37be_row2_col6\" class=\"data row2 col6\" >24.618314</td>\n",
       "      <td id=\"T_d37be_row2_col7\" class=\"data row2 col7\" >0.904279</td>\n",
       "      <td id=\"T_d37be_row2_col8\" class=\"data row2 col8\" >0.950382</td>\n",
       "    </tr>\n",
       "    <tr>\n",
       "      <th id=\"T_d37be_level0_row3\" class=\"row_heading level0 row3\" >3</th>\n",
       "      <td id=\"T_d37be_row3_col0\" class=\"data row3 col0\" >Optuna</td>\n",
       "      <td id=\"T_d37be_row3_col1\" class=\"data row3 col1\" >manhattan</td>\n",
       "      <td id=\"T_d37be_row3_col2\" class=\"data row3 col2\" >5</td>\n",
       "      <td id=\"T_d37be_row3_col3\" class=\"data row3 col3\" >distance</td>\n",
       "      <td id=\"T_d37be_row3_col4\" class=\"data row3 col4\" >0.950450</td>\n",
       "      <td id=\"T_d37be_row3_col5\" class=\"data row3 col5\" >0.905400</td>\n",
       "      <td id=\"T_d37be_row3_col6\" class=\"data row3 col6\" >69.134553</td>\n",
       "      <td id=\"T_d37be_row3_col7\" class=\"data row3 col7\" >0.904279</td>\n",
       "      <td id=\"T_d37be_row3_col8\" class=\"data row3 col8\" >0.950382</td>\n",
       "    </tr>\n",
       "    <tr>\n",
       "      <th id=\"T_d37be_level0_row4\" class=\"row_heading level0 row4\" >4</th>\n",
       "      <td id=\"T_d37be_row4_col0\" class=\"data row4 col0\" >Hyperopt</td>\n",
       "      <td id=\"T_d37be_row4_col1\" class=\"data row4 col1\" >manhattan</td>\n",
       "      <td id=\"T_d37be_row4_col2\" class=\"data row4 col2\" >5</td>\n",
       "      <td id=\"T_d37be_row4_col3\" class=\"data row4 col3\" >distance</td>\n",
       "      <td id=\"T_d37be_row4_col4\" class=\"data row4 col4\" >0.950450</td>\n",
       "      <td id=\"T_d37be_row4_col5\" class=\"data row4 col5\" >0.905400</td>\n",
       "      <td id=\"T_d37be_row4_col6\" class=\"data row4 col6\" >65.040748</td>\n",
       "      <td id=\"T_d37be_row4_col7\" class=\"data row4 col7\" >0.904279</td>\n",
       "      <td id=\"T_d37be_row4_col8\" class=\"data row4 col8\" >0.950382</td>\n",
       "    </tr>\n",
       "  </tbody>\n",
       "</table>\n"
      ],
      "text/plain": [
       "<pandas.io.formats.style.Styler at 0x1606de1d0>"
      ]
     },
     "execution_count": 133,
     "metadata": {},
     "output_type": "execute_result"
    }
   ],
   "source": [
    "neighbors"
   ]
  },
  {
   "cell_type": "markdown",
   "id": "9dd40dc7",
   "metadata": {},
   "source": [
    "Можем сделать следующие выводы:\n",
    "1. В 4 случаях из 5 при оптимизации получались одни и те же гиперпараметры. Метрика по кросс-валидации у всех одинаковая, но разное время выполнения. В данном случае лучше всего выбрать байесовскую оптимизацию, поскольку она показала наилучший результат и за достаточно короткое время.\n",
    "2. Быстрее всего справился рандомный поиск, но результат по кросс-валидации оказался одним из худших."
   ]
  },
  {
   "cell_type": "markdown",
   "id": "1a560f3a",
   "metadata": {},
   "source": [
    "Вывод:\n",
    "\n",
    "На основе проведенных исследований эффективности методов оптимизации гиперпараметров было выявлено, что для задачи классификации (в нашем случае бинарная классификация на основе датасета о циррозе печени) оптимальнее всего использовать BayesSearch. Поскольку за сравнительно короткое время метод показал наилучшие результаты на примере DecisionTreeClassifier и KNeighborsClassifier. "
   ]
  }
 ],
 "metadata": {
  "kernelspec": {
   "display_name": "Python 3 (ipykernel)",
   "language": "python",
   "name": "python3"
  },
  "language_info": {
   "codemirror_mode": {
    "name": "ipython",
    "version": 3
   },
   "file_extension": ".py",
   "mimetype": "text/x-python",
   "name": "python",
   "nbconvert_exporter": "python",
   "pygments_lexer": "ipython3",
   "version": "3.10.10"
  }
 },
 "nbformat": 4,
 "nbformat_minor": 5
}
